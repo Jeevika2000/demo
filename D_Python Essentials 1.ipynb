{
 "cells": [
  {
   "cell_type": "code",
   "execution_count": 1,
   "id": "3a47ec55-6fe8-4916-8536-6f5c65459719",
   "metadata": {},
   "outputs": [
    {
     "data": {
      "text/plain": [
       "'C:\\\\Users\\\\ksjee'"
      ]
     },
     "execution_count": 1,
     "metadata": {},
     "output_type": "execute_result"
    }
   ],
   "source": [
    "pwd"
   ]
  },
  {
   "cell_type": "code",
   "execution_count": 2,
   "id": "b7db9c07-55bc-4956-826c-52a92598392d",
   "metadata": {},
   "outputs": [
    {
     "name": "stdout",
     "output_type": "stream",
     "text": [
      "Hi:\n"
     ]
    }
   ],
   "source": [
    "print(\"Hi:\")"
   ]
  },
  {
   "cell_type": "code",
   "execution_count": 3,
   "id": "83813847-55a6-4567-a875-09315488971f",
   "metadata": {},
   "outputs": [
    {
     "name": "stdout",
     "output_type": "stream",
     "text": [
      "3.10.9 | packaged by Anaconda, Inc. | (main, Mar  1 2023, 18:18:15) [MSC v.1916 64 bit (AMD64)]\n"
     ]
    }
   ],
   "source": [
    "import sys\n",
    "print(sys.version)"
   ]
  },
  {
   "cell_type": "code",
   "execution_count": 4,
   "id": "dabeb274-c82b-4f64-a79a-db4d0e8150f1",
   "metadata": {},
   "outputs": [
    {
     "name": "stdout",
     "output_type": "stream",
     "text": [
      "C:\\Program Files\\Anaconda3\\python.exe\n"
     ]
    }
   ],
   "source": [
    "import sys\n",
    "print(sys.executable)"
   ]
  },
  {
   "cell_type": "code",
   "execution_count": 5,
   "id": "bfcf7fbb-ff46-4a2b-900c-e675f6cf05e9",
   "metadata": {},
   "outputs": [
    {
     "name": "stdout",
     "output_type": "stream",
     "text": [
      "3.10.9\n"
     ]
    }
   ],
   "source": [
    "import platform\n",
    "print(platform.python_version())"
   ]
  },
  {
   "cell_type": "code",
   "execution_count": 6,
   "id": "d62cf260-aca7-4f4c-85b0-3fb9681322c3",
   "metadata": {},
   "outputs": [
    {
     "name": "stdout",
     "output_type": "stream",
     "text": [
      " Volume in drive C is OS\n",
      " Volume Serial Number is DC20-ABB5\n",
      "\n",
      " Directory of C:\\Users\\ksjee\n",
      "\n",
      "03-08-2024  21:26    <DIR>          .\n",
      "23-12-2023  21:44    <DIR>          ..\n",
      "06-12-2022  10:08    <DIR>          .cache\n",
      "27-05-2024  22:17    <DIR>          .chatgpt\n",
      "23-07-2024  16:15    <DIR>          .conda\n",
      "23-07-2024  16:10                25 .condarc\n",
      "23-07-2024  16:09    <DIR>          .continuum\n",
      "28-07-2024  02:40    <DIR>          .ipynb_checkpoints\n",
      "06-06-2023  20:09    <DIR>          .ipython\n",
      "08-06-2023  01:43    <DIR>          .jupyter\n",
      "08-06-2023  02:22    <DIR>          .keras\n",
      "06-06-2023  20:09    <DIR>          .matplotlib\n",
      "24-01-2024  22:42    <DIR>          .spyder-py3\n",
      "13-06-2023  17:28    <DIR>          .streamlit\n",
      "13-06-2023  18:45    <DIR>          .vscode\n",
      "02-10-2023  23:07    <DIR>          amazon\n",
      "23-07-2024  16:06    <DIR>          anaconda3\n",
      "05-12-2022  13:02             4,498 basics.py\n",
      "22-11-2022  09:06    <DIR>          Contacts\n",
      "22-11-2022  09:08    <DIR>          Documents\n",
      "03-08-2024  21:09    <DIR>          Downloads\n",
      "03-08-2024  21:26           150,893 D_Python Essentials 1.ipynb\n",
      "27-12-2022  11:15    <DIR>          env\n",
      "22-11-2022  09:06    <DIR>          Favorites\n",
      "31-01-2023  14:48               661 geckodriver.log\n",
      "14-02-2023  16:01               440 givika.csv\n",
      "06-06-2023  20:11    <DIR>          Jedi\n",
      "22-11-2022  09:06    <DIR>          Links\n",
      "28-12-2022  14:14    <DIR>          Microsoft\n",
      "22-11-2022  09:06    <DIR>          Music\n",
      "03-08-2024  20:57    <DIR>          OneDrive\n",
      "23-07-2024  16:15            46,584 Precedance.PNG\n",
      "23-07-2024  16:15            47,577 Precedance2.PNG\n",
      "28-07-2024  03:24            10,947 Python Assignment Questions -- Week 1.ipynb\n",
      "29-07-2024  14:05           138,810 Python Essentials 2.ipynb\n",
      "29-07-2024  14:05            78,532 Python Essentials 3 (1).ipynb\n",
      "29-07-2024  16:12            45,452 Python Essentials 3.ipynb\n",
      "23-07-2024  15:21             5,644 Python Practice Assignment.ipynb\n",
      "23-07-2024  15:22            51,181 Python Practice Question.ipynb\n",
      "21-02-2023  15:00                55 restaurant_data.csv\n",
      "14-02-2023  11:54            21,645 sai.csv\n",
      "22-11-2022  09:06    <DIR>          Saved Games\n",
      "22-11-2022  09:24    <DIR>          Searches\n",
      "12-12-2022  15:15             1,071 t.py\n",
      "12-12-2022  15:26             1,204 ta.py\n",
      "06-12-2022  12:23             4,852 Untitled.ipynb\n",
      "06-12-2022  16:04            48,850 Untitled1.ipynb\n",
      "23-07-2024  14:40             2,545 Untitled10.ipynb\n",
      "28-07-2024  02:41               589 Untitled11.ipynb\n",
      "06-12-2022  16:17             2,851 Untitled2.ipynb\n",
      "08-12-2022  14:48             2,762 Untitled3.ipynb\n",
      "08-12-2022  17:03             1,141 Untitled4.ipynb\n",
      "12-12-2022  10:50               916 Untitled5.ipynb\n",
      "12-12-2022  11:28               589 Untitled6.ipynb\n",
      "09-01-2023  16:28             9,447 Untitled7.ipynb\n",
      "21-02-2023  15:03            34,218 Untitled8.ipynb\n",
      "23-07-2024  14:25                72 Untitled9.ipynb\n",
      "29-07-2024  14:52    <DIR>          Videos\n",
      "09-01-2023  16:25        15,782,700 yelp_academic_dataset_business.csv\n",
      "09-01-2023  16:25       895,311,276 yelp_academic_dataset_review.csv\n",
      "              31 File(s)    911,808,027 bytes\n",
      "              29 Dir(s)  145,136,091,136 bytes free\n"
     ]
    }
   ],
   "source": [
    "!dir"
   ]
  },
  {
   "cell_type": "markdown",
   "id": "5573a58b",
   "metadata": {
    "id": "5573a58b"
   },
   "source": [
    "# What is Jupyter  Notebook\n",
    "* The Jupyter Notebook is an open-source web application that allows data scientists to create and share documents that           integrate live code, equations, computational output, visualizations, and other multimedia resources,\n",
    "\n",
    "* Uses include data cleaning and transformation, numerical simulation, statistical modeling, data visualization, machine         learning, and much more.\n"
   ]
  },
  {
   "cell_type": "markdown",
   "id": "1c454286",
   "metadata": {
    "id": "1c454286"
   },
   "source": [
    "## Tutorial\n",
    "- Interactive\n",
    "- Results/outputs are stored so it is easy to review\n",
    "- Friendly for documentation\n",
    "- No limitation from performance\n",
    "- helpful shortcuts\n",
    "- Industry standard for all data science, ML, AI projects.\n",
    "\n",
    "<p> Extension of jupyter file is ipynb (i python notebook, previous name of Jupyter) </p>\n",
    "\n"
   ]
  },
  {
   "cell_type": "markdown",
   "id": "ee8239e8",
   "metadata": {
    "id": "ee8239e8"
   },
   "source": [
    "# This is a markdown\n",
    "\n",
    "**this is bold** this is not boldewfhbwebfs\n",
    "\n"
   ]
  },
  {
   "cell_type": "markdown",
   "id": "8f489841-2789-43a4-8072-6e4fea248f26",
   "metadata": {},
   "source": [
    "hi everyone"
   ]
  },
  {
   "cell_type": "markdown",
   "id": "fb98ba9f-189c-44ba-973d-d5598f780e94",
   "metadata": {},
   "source": [
    "### this is my first python class"
   ]
  },
  {
   "cell_type": "raw",
   "id": "6e0191a3-7981-4dd4-a3b6-9bc70659f47e",
   "metadata": {},
   "source": [
    "oewhfdoiwoiwjf"
   ]
  },
  {
   "cell_type": "markdown",
   "id": "4e90d845-2993-4421-8eaa-2f30598b4cb2",
   "metadata": {
    "id": "291f7652"
   },
   "source": [
    "This is Raw NBConvert\n",
    "python is coding launguage\n",
    "\n",
    "This is a raw cell\n",
    "Jupyter is awesome\n",
    "\n"
   ]
  },
  {
   "cell_type": "code",
   "execution_count": null,
   "id": "4aac21fa-4706-4cc3-b3e6-eb17b30eb5d2",
   "metadata": {},
   "outputs": [],
   "source": []
  },
  {
   "cell_type": "markdown",
   "id": "ec91a308",
   "metadata": {
    "id": "ec91a308"
   },
   "source": [
    "### mode\n",
    "* Green----> edit mode(Enter button)\n",
    "* blue-----> command mode(Esc button)\n"
   ]
  },
  {
   "cell_type": "markdown",
   "id": "e6babead",
   "metadata": {
    "id": "e6babead"
   },
   "source": [
    "# Short Cuts\n",
    "\n",
    "[shift] + [enter] : run a cell\n",
    "\n",
    "Command mode:\n",
    "a : insert cell above\n",
    "\n",
    "b : insert cell below\n",
    "\n",
    "dd : delete a cell\n",
    "\n",
    "z : undo a delete cell\n",
    "\n",
    "r : convert cell to raw cell\n",
    "\n",
    "m : convert cell to Markdown cell\n",
    "\n",
    "y : convert cell to code cell\n",
    "\n",
    "c: copy a cell\n",
    "\n",
    "v : paste a cell\n",
    "\n",
    "x : cut a cell\n",
    "\n",
    "o : toggle output\n",
    "\n",
    "# Edit Mode:\n",
    "\n",
    "Ctrl + C : copy a text\n",
    "\n",
    "Ctrl + V : paste\n",
    "\n",
    "Ctrl + X : cut\n",
    "\n",
    "Ctrl + Z : undo"
   ]
  },
  {
   "cell_type": "markdown",
   "id": "cd840a4f",
   "metadata": {
    "id": "cd840a4f"
   },
   "source": [
    "# Keywords\n"
   ]
  },
  {
   "cell_type": "raw",
   "id": "68afbcdd",
   "metadata": {
    "id": "68afbcdd"
   },
   "source": [
    "* Keywords in python are reserved words in python and cant be used as identifiers."
   ]
  },
  {
   "cell_type": "code",
   "execution_count": 8,
   "id": "d0c38367-efa3-4594-87b3-1a1aa7a0e5d2",
   "metadata": {},
   "outputs": [
    {
     "data": {
      "text/plain": [
       "False"
      ]
     },
     "execution_count": 8,
     "metadata": {},
     "output_type": "execute_result"
    }
   ],
   "source": [
    "False"
   ]
  },
  {
   "cell_type": "code",
   "execution_count": 7,
   "id": "298eab77-2255-49da-ae00-7847fcc6b5f3",
   "metadata": {},
   "outputs": [
    {
     "ename": "SyntaxError",
     "evalue": "invalid syntax (482953232.py, line 1)",
     "output_type": "error",
     "traceback": [
      "\u001b[1;36m  Cell \u001b[1;32mIn[7], line 1\u001b[1;36m\u001b[0m\n\u001b[1;33m    import\u001b[0m\n\u001b[1;37m          ^\u001b[0m\n\u001b[1;31mSyntaxError\u001b[0m\u001b[1;31m:\u001b[0m invalid syntax\n"
     ]
    }
   ],
   "source": [
    "\n",
    "import"
   ]
  },
  {
   "cell_type": "code",
   "execution_count": 9,
   "id": "0ab1d4b0",
   "metadata": {
    "colab": {
     "base_uri": "https://localhost:8080/"
    },
    "executionInfo": {
     "elapsed": 7,
     "status": "ok",
     "timestamp": 1679915408933,
     "user": {
      "displayName": "Jitendra Rathod",
      "userId": "08588782662248261812"
     },
     "user_tz": -330
    },
    "id": "0ab1d4b0",
    "outputId": "76093bce-910a-4418-f32f-3b52a7b24e2e"
   },
   "outputs": [
    {
     "name": "stdout",
     "output_type": "stream",
     "text": [
      "['False', 'None', 'True', 'and', 'as', 'assert', 'async', 'await', 'break', 'class', 'continue', 'def', 'del', 'elif', 'else', 'except', 'finally', 'for', 'from', 'global', 'if', 'import', 'in', 'is', 'lambda', 'nonlocal', 'not', 'or', 'pass', 'raise', 'return', 'try', 'while', 'with', 'yield']\n"
     ]
    }
   ],
   "source": [
    "import keyword\n",
    "print(keyword.kwlist)  # It will give all keywords of python"
   ]
  },
  {
   "cell_type": "code",
   "execution_count": 10,
   "id": "7a9ef08d",
   "metadata": {
    "id": "7a9ef08d"
   },
   "outputs": [
    {
     "data": {
      "text/plain": [
       "35"
      ]
     },
     "execution_count": 10,
     "metadata": {},
     "output_type": "execute_result"
    }
   ],
   "source": [
    "len(keyword.kwlist)"
   ]
  },
  {
   "cell_type": "markdown",
   "id": "c15e70c8",
   "metadata": {
    "id": "c15e70c8"
   },
   "source": [
    "# Identifiers"
   ]
  },
  {
   "cell_type": "markdown",
   "id": "41911e15",
   "metadata": {
    "id": "41911e15"
   },
   "source": [
    "* An identifier is the name given to entities like functions,variables etc.\n",
    "* It helps in differentiating one entity from other."
   ]
  },
  {
   "cell_type": "code",
   "execution_count": 11,
   "id": "3651bce9-46f9-47f7-808e-23af8fdd6910",
   "metadata": {},
   "outputs": [
    {
     "data": {
      "text/plain": [
       "7"
      ]
     },
     "execution_count": 11,
     "metadata": {},
     "output_type": "execute_result"
    }
   ],
   "source": [
    "3+4"
   ]
  },
  {
   "cell_type": "code",
   "execution_count": 12,
   "id": "07481b98-4482-4727-b185-a2cf8c6a36c5",
   "metadata": {},
   "outputs": [],
   "source": [
    "a = 8"
   ]
  },
  {
   "cell_type": "code",
   "execution_count": 13,
   "id": "78230a62-4314-42fe-a8fa-164a23da7a91",
   "metadata": {},
   "outputs": [
    {
     "data": {
      "text/plain": [
       "8"
      ]
     },
     "execution_count": 13,
     "metadata": {},
     "output_type": "execute_result"
    }
   ],
   "source": [
    "a"
   ]
  },
  {
   "cell_type": "code",
   "execution_count": 14,
   "id": "cd5d1515-ad18-4c25-8cfb-77c3aec4ed53",
   "metadata": {},
   "outputs": [],
   "source": [
    "b =99"
   ]
  },
  {
   "cell_type": "code",
   "execution_count": 15,
   "id": "5c2f23b7-7dbe-47a2-a4f8-6fadc7a02db4",
   "metadata": {
    "scrolled": true
   },
   "outputs": [
    {
     "ename": "NameError",
     "evalue": "name 'c' is not defined",
     "output_type": "error",
     "traceback": [
      "\u001b[1;31m---------------------------------------------------------------------------\u001b[0m",
      "\u001b[1;31mNameError\u001b[0m                                 Traceback (most recent call last)",
      "Cell \u001b[1;32mIn[15], line 1\u001b[0m\n\u001b[1;32m----> 1\u001b[0m \u001b[43mc\u001b[49m \u001b[38;5;241m+\u001b[39m d\n",
      "\u001b[1;31mNameError\u001b[0m: name 'c' is not defined"
     ]
    }
   ],
   "source": [
    "c + d"
   ]
  },
  {
   "cell_type": "code",
   "execution_count": 16,
   "id": "e27d62d7-6c57-4735-a489-813c7ca319bd",
   "metadata": {},
   "outputs": [
    {
     "data": {
      "text/plain": [
       "-91"
      ]
     },
     "execution_count": 16,
     "metadata": {},
     "output_type": "execute_result"
    }
   ],
   "source": [
    "a - b"
   ]
  },
  {
   "cell_type": "code",
   "execution_count": 17,
   "id": "ab1274f8-0dcd-4849-9cf8-c4b77e7951ff",
   "metadata": {},
   "outputs": [
    {
     "data": {
      "text/plain": [
       "107"
      ]
     },
     "execution_count": 17,
     "metadata": {},
     "output_type": "execute_result"
    }
   ],
   "source": [
    "a+b"
   ]
  },
  {
   "cell_type": "code",
   "execution_count": 18,
   "id": "da630be6-c1b9-49d5-a681-272e26c1fcfe",
   "metadata": {},
   "outputs": [],
   "source": [
    "seat_no = 6"
   ]
  },
  {
   "cell_type": "code",
   "execution_count": 19,
   "id": "68866443-6867-4d2f-bc94-4c66b54e3bb5",
   "metadata": {},
   "outputs": [],
   "source": [
    "amount_paid= 9000"
   ]
  },
  {
   "cell_type": "code",
   "execution_count": 20,
   "id": "5a99f329-d3a8-4786-a86e-bdf5a7610ffd",
   "metadata": {},
   "outputs": [
    {
     "data": {
      "text/plain": [
       "9000"
      ]
     },
     "execution_count": 20,
     "metadata": {},
     "output_type": "execute_result"
    }
   ],
   "source": [
    "amount_paid"
   ]
  },
  {
   "cell_type": "code",
   "execution_count": 21,
   "id": "220b6b44-8fb2-48f3-9194-bb2e49fe3d87",
   "metadata": {},
   "outputs": [],
   "source": [
    "no_items=7"
   ]
  },
  {
   "cell_type": "code",
   "execution_count": 22,
   "id": "13c4d703-bfc8-488e-8ce2-1ff864853034",
   "metadata": {},
   "outputs": [],
   "source": [
    "total_amount = amount_paid * no_items"
   ]
  },
  {
   "cell_type": "code",
   "execution_count": 23,
   "id": "a822e8d5-4c46-4615-869f-11f756994712",
   "metadata": {},
   "outputs": [
    {
     "data": {
      "text/plain": [
       "63000"
      ]
     },
     "execution_count": 23,
     "metadata": {},
     "output_type": "execute_result"
    }
   ],
   "source": [
    "total_amount"
   ]
  },
  {
   "cell_type": "code",
   "execution_count": 24,
   "id": "4f9c5319-3e93-4032-9706-d991f3893e83",
   "metadata": {},
   "outputs": [
    {
     "data": {
      "text/plain": [
       "49000"
      ]
     },
     "execution_count": 24,
     "metadata": {},
     "output_type": "execute_result"
    }
   ],
   "source": [
    "7 * 7000"
   ]
  },
  {
   "cell_type": "markdown",
   "id": "61e448c6-952e-4b1c-a289-dfceff3ce35d",
   "metadata": {},
   "source": [
    "### Rules of naming a identifier ?"
   ]
  },
  {
   "cell_type": "code",
   "execution_count": null,
   "id": "6afde0cf-0f2f-4d1a-a229-9a487c85733b",
   "metadata": {},
   "outputs": [],
   "source": [
    "#identifier cannot begin with a number\n",
    "# it cannot have a special charater\n",
    "#it can have number at other parts of a identifier name except at the beginning\n",
    "# variable cannot be keyword"
   ]
  },
  {
   "cell_type": "code",
   "execution_count": 25,
   "id": "98c3f9f6-6b08-4a91-9a3e-0db029fe47b4",
   "metadata": {},
   "outputs": [
    {
     "ename": "SyntaxError",
     "evalue": "invalid syntax (4194484637.py, line 1)",
     "output_type": "error",
     "traceback": [
      "\u001b[1;36m  Cell \u001b[1;32mIn[25], line 1\u001b[1;36m\u001b[0m\n\u001b[1;33m    if = 99\u001b[0m\n\u001b[1;37m       ^\u001b[0m\n\u001b[1;31mSyntaxError\u001b[0m\u001b[1;31m:\u001b[0m invalid syntax\n"
     ]
    }
   ],
   "source": [
    "if = 99"
   ]
  },
  {
   "cell_type": "code",
   "execution_count": null,
   "id": "0b870cc1-592d-4253-9905-36628d0088af",
   "metadata": {},
   "outputs": [],
   "source": []
  },
  {
   "cell_type": "code",
   "execution_count": 26,
   "id": "74c11b35-e257-4cae-8399-5665a0c20bae",
   "metadata": {},
   "outputs": [
    {
     "data": {
      "text/plain": [
       "9"
      ]
     },
     "execution_count": 26,
     "metadata": {},
     "output_type": "execute_result"
    }
   ],
   "source": [
    "amount9paid =9\n",
    "amount9paid"
   ]
  },
  {
   "cell_type": "code",
   "execution_count": 27,
   "id": "66cb1403",
   "metadata": {
    "id": "66cb1403",
    "jupyter": {
     "outputs_hidden": true
    }
   },
   "outputs": [
    {
     "ename": "SyntaxError",
     "evalue": "invalid decimal literal (2765931860.py, line 1)",
     "output_type": "error",
     "traceback": [
      "\u001b[1;36m  Cell \u001b[1;32mIn[27], line 1\u001b[1;36m\u001b[0m\n\u001b[1;33m    2var=34  #identifier can not be initaite with digit.\u001b[0m\n\u001b[1;37m    ^\u001b[0m\n\u001b[1;31mSyntaxError\u001b[0m\u001b[1;31m:\u001b[0m invalid decimal literal\n"
     ]
    }
   ],
   "source": [
    "2var=34  #identifier can not be initaite with digit."
   ]
  },
  {
   "cell_type": "code",
   "execution_count": 28,
   "id": "3e3cf0af-77e4-457e-a029-0644d493e354",
   "metadata": {},
   "outputs": [
    {
     "ename": "SyntaxError",
     "evalue": "cannot assign to expression here. Maybe you meant '==' instead of '='? (2666556976.py, line 1)",
     "output_type": "error",
     "traceback": [
      "\u001b[1;36m  Cell \u001b[1;32mIn[28], line 1\u001b[1;36m\u001b[0m\n\u001b[1;33m    var@123='abc'\u001b[0m\n\u001b[1;37m    ^\u001b[0m\n\u001b[1;31mSyntaxError\u001b[0m\u001b[1;31m:\u001b[0m cannot assign to expression here. Maybe you meant '==' instead of '='?\n"
     ]
    }
   ],
   "source": [
    "var@123='abc'"
   ]
  },
  {
   "cell_type": "code",
   "execution_count": null,
   "id": "d7c7b51c-542b-437c-9b7c-f233b9f35131",
   "metadata": {},
   "outputs": [],
   "source": []
  },
  {
   "cell_type": "code",
   "execution_count": null,
   "id": "11013404-0503-4ef6-871f-55015a8f6d97",
   "metadata": {},
   "outputs": [],
   "source": []
  },
  {
   "cell_type": "code",
   "execution_count": 29,
   "id": "18cb63fa-d739-464f-9abf-049f18ea5063",
   "metadata": {},
   "outputs": [
    {
     "data": {
      "text/plain": [
       "8"
      ]
     },
     "execution_count": 29,
     "metadata": {},
     "output_type": "execute_result"
    }
   ],
   "source": [
    "_ky =8\n",
    "_ky"
   ]
  },
  {
   "cell_type": "code",
   "execution_count": null,
   "id": "2ad8ee84-03c4-4ea7-a640-fb50581158f1",
   "metadata": {},
   "outputs": [],
   "source": []
  },
  {
   "cell_type": "code",
   "execution_count": 12,
   "id": "c100d47b",
   "metadata": {
    "id": "c100d47b",
    "scrolled": true
   },
   "outputs": [
    {
     "ename": "SyntaxError",
     "evalue": "cannot assign to expression here. Maybe you meant '==' instead of '='? (1247436163.py, line 1)",
     "output_type": "error",
     "traceback": [
      "\u001b[1;36m  Cell \u001b[1;32mIn[12], line 1\u001b[1;36m\u001b[0m\n\u001b[1;33m    var@123='abc' # Identifer cannot use special symbol\u001b[0m\n\u001b[1;37m    ^\u001b[0m\n\u001b[1;31mSyntaxError\u001b[0m\u001b[1;31m:\u001b[0m cannot assign to expression here. Maybe you meant '==' instead of '='?\n"
     ]
    }
   ],
   "source": [
    "var@123='abc' # Identifer cannot use special symbol"
   ]
  },
  {
   "cell_type": "code",
   "execution_count": 30,
   "id": "57ac31ff",
   "metadata": {
    "id": "57ac31ff",
    "jupyter": {
     "outputs_hidden": true
    }
   },
   "outputs": [
    {
     "ename": "SyntaxError",
     "evalue": "invalid syntax (4267806053.py, line 1)",
     "output_type": "error",
     "traceback": [
      "\u001b[1;36m  Cell \u001b[1;32mIn[30], line 1\u001b[1;36m\u001b[0m\n\u001b[1;33m    import=123 # Keywords cannot be used as identifier\u001b[0m\n\u001b[1;37m          ^\u001b[0m\n\u001b[1;31mSyntaxError\u001b[0m\u001b[1;31m:\u001b[0m invalid syntax\n"
     ]
    }
   ],
   "source": [
    "import=123 # Keywords cannot be used as identifier"
   ]
  },
  {
   "cell_type": "code",
   "execution_count": null,
   "id": "2bba50bc",
   "metadata": {
    "id": "2bba50bc"
   },
   "outputs": [],
   "source": [
    "\"\"\"\n",
    "Correct way of defining an identifier\n",
    "(Identifiers can be a combination of letters in \n",
    "lowercase (a to z) or uppercase\n",
    "and only special chararcter allowed is _ )\"\"\"\n",
    "\n",
    "\n",
    "var=2\n",
    "# var is entity called as variable has been created and assigned with valeu of 2"
   ]
  },
  {
   "cell_type": "code",
   "execution_count": 32,
   "id": "1f250660",
   "metadata": {
    "id": "1f250660"
   },
   "outputs": [],
   "source": [
    "VAR=2"
   ]
  },
  {
   "cell_type": "code",
   "execution_count": 33,
   "id": "683313e3",
   "metadata": {
    "id": "683313e3"
   },
   "outputs": [],
   "source": [
    "var_12='Data'"
   ]
  },
  {
   "cell_type": "markdown",
   "id": "97b903b7",
   "metadata": {
    "id": "97b903b7"
   },
   "source": [
    "# Comments"
   ]
  },
  {
   "cell_type": "markdown",
   "id": "d915980a",
   "metadata": {
    "id": "d915980a"
   },
   "source": [
    "* Comments can be used to explain the code for more readabilty."
   ]
  },
  {
   "cell_type": "code",
   "execution_count": 15,
   "id": "bba78a99",
   "metadata": {
    "id": "bba78a99"
   },
   "outputs": [],
   "source": [
    "# Single line comment\n",
    "#val2 = 10\n"
   ]
  },
  {
   "cell_type": "code",
   "execution_count": 34,
   "id": "ac493f5e-cae1-401f-ba7c-fb1a7ccbf99f",
   "metadata": {},
   "outputs": [
    {
     "data": {
      "text/plain": [
       "7"
      ]
     },
     "execution_count": 34,
     "metadata": {},
     "output_type": "execute_result"
    }
   ],
   "source": [
    "3+4"
   ]
  },
  {
   "cell_type": "code",
   "execution_count": 17,
   "id": "33ac44e9-391f-4232-8f81-067bf26ebaeb",
   "metadata": {},
   "outputs": [],
   "source": [
    "#comment \n",
    "# 3+4"
   ]
  },
  {
   "cell_type": "code",
   "execution_count": 35,
   "id": "a05c19f5-6560-4242-a6b2-f8be17500e90",
   "metadata": {},
   "outputs": [
    {
     "name": "stdout",
     "output_type": "stream",
     "text": [
      "9\n",
      "10\n"
     ]
    }
   ],
   "source": [
    "print(4+5)\n",
    "#print(8+9)\n",
    "print(9+1)"
   ]
  },
  {
   "cell_type": "code",
   "execution_count": null,
   "id": "1a725f05-3660-4800-a8e0-1fd907eab497",
   "metadata": {},
   "outputs": [],
   "source": []
  },
  {
   "cell_type": "code",
   "execution_count": null,
   "id": "09bbe039-11a3-4d13-a907-c7ad9c30c051",
   "metadata": {},
   "outputs": [],
   "source": []
  },
  {
   "cell_type": "code",
   "execution_count": null,
   "id": "2aa74847-f07d-4c76-bfad-b7f7f0b8a029",
   "metadata": {},
   "outputs": [],
   "source": []
  },
  {
   "cell_type": "code",
   "execution_count": 36,
   "id": "1ca2252d",
   "metadata": {
    "id": "1ca2252d"
   },
   "outputs": [
    {
     "ename": "NameError",
     "evalue": "name 'val2' is not defined",
     "output_type": "error",
     "traceback": [
      "\u001b[1;31m---------------------------------------------------------------------------\u001b[0m",
      "\u001b[1;31mNameError\u001b[0m                                 Traceback (most recent call last)",
      "Cell \u001b[1;32mIn[36], line 1\u001b[0m\n\u001b[1;32m----> 1\u001b[0m \u001b[43mval2\u001b[49m\n",
      "\u001b[1;31mNameError\u001b[0m: name 'val2' is not defined"
     ]
    }
   ],
   "source": [
    "val2"
   ]
  },
  {
   "cell_type": "code",
   "execution_count": 37,
   "id": "2f772d53",
   "metadata": {
    "id": "2f772d53"
   },
   "outputs": [],
   "source": [
    "# Multiple\n",
    "# line\n",
    "# comment\n",
    "val1 = 10\n"
   ]
  },
  {
   "cell_type": "code",
   "execution_count": 38,
   "id": "086e9a78-ba7f-4f2e-85ad-fc07f8df2ff1",
   "metadata": {},
   "outputs": [],
   "source": [
    "\"\"\"\n",
    "this is a\n",
    "multiline\n",
    "comment \n",
    "i can write it\n",
    "mulitiple \n",
    "\n",
    "lines\"\"\"\n",
    "\n",
    "5+6\n",
    "loan = 90000"
   ]
  },
  {
   "cell_type": "code",
   "execution_count": 39,
   "id": "31a80171",
   "metadata": {
    "id": "31a80171"
   },
   "outputs": [
    {
     "ename": "SyntaxError",
     "evalue": "incomplete input (2495345415.py, line 1)",
     "output_type": "error",
     "traceback": [
      "\u001b[1;36m  Cell \u001b[1;32mIn[39], line 1\u001b[1;36m\u001b[0m\n\u001b[1;33m    \"\"\"\u001b[0m\n\u001b[1;37m    ^\u001b[0m\n\u001b[1;31mSyntaxError\u001b[0m\u001b[1;31m:\u001b[0m incomplete input\n"
     ]
    }
   ],
   "source": [
    "\"\"\"\n",
    "Multiple line\n",
    "comment '''\n",
    "val1 = 10\n"
   ]
  },
  {
   "cell_type": "code",
   "execution_count": 40,
   "id": "2e10e922",
   "metadata": {
    "id": "2e10e922"
   },
   "outputs": [
    {
     "data": {
      "text/plain": [
       "10"
      ]
     },
     "execution_count": 40,
     "metadata": {},
     "output_type": "execute_result"
    }
   ],
   "source": [
    "val1"
   ]
  },
  {
   "cell_type": "code",
   "execution_count": 41,
   "id": "c700542b",
   "metadata": {
    "id": "c700542b"
   },
   "outputs": [],
   "source": [
    "\"\"\"\n",
    "Multiple line\n",
    "comment \"\"\"\n",
    "val1= 10\n"
   ]
  },
  {
   "cell_type": "markdown",
   "id": "a76869bd",
   "metadata": {
    "id": "a76869bd"
   },
   "source": [
    "# Statements"
   ]
  },
  {
   "cell_type": "markdown",
   "id": "8bf438c4",
   "metadata": {
    "id": "8bf438c4"
   },
   "source": [
    "* Instructions that a Python interpreter can execute."
   ]
  },
  {
   "cell_type": "code",
   "execution_count": null,
   "id": "d8e2649e",
   "metadata": {
    "id": "d8e2649e"
   },
   "outputs": [],
   "source": []
  },
  {
   "cell_type": "code",
   "execution_count": 42,
   "id": "7743442b",
   "metadata": {
    "id": "7743442b"
   },
   "outputs": [
    {
     "data": {
      "text/plain": [
       "5"
      ]
     },
     "execution_count": 42,
     "metadata": {},
     "output_type": "execute_result"
    }
   ],
   "source": [
    "2+3"
   ]
  },
  {
   "cell_type": "code",
   "execution_count": 43,
   "id": "49b580e9",
   "metadata": {
    "id": "49b580e9"
   },
   "outputs": [
    {
     "data": {
      "text/plain": [
       "['a', 'b', 'c', 'd']"
      ]
     },
     "execution_count": 43,
     "metadata": {},
     "output_type": "execute_result"
    }
   ],
   "source": [
    "# Single line statement\n",
    "p2 = ['a' , 'b' , 'c' , 'd']\n",
    "p2\n"
   ]
  },
  {
   "cell_type": "code",
   "execution_count": 24,
   "id": "0465af83",
   "metadata": {
    "id": "0465af83"
   },
   "outputs": [
    {
     "data": {
      "text/plain": [
       "50"
      ]
     },
     "execution_count": 24,
     "metadata": {},
     "output_type": "execute_result"
    }
   ],
   "source": [
    "# Multiple line statement\n",
    "p1 = 20 + 30 \n",
    "+  40  +  50  \n",
    "+ 70 + 80\n",
    "p1\n"
   ]
  },
  {
   "cell_type": "code",
   "execution_count": 44,
   "id": "353bd9cd-b449-40c8-8593-83c100088b58",
   "metadata": {},
   "outputs": [
    {
     "data": {
      "text/plain": [
       "21"
      ]
     },
     "execution_count": 44,
     "metadata": {},
     "output_type": "execute_result"
    }
   ],
   "source": [
    "6+ \\\n",
    "7 \\\n",
    "+ \\\n",
    "8"
   ]
  },
  {
   "cell_type": "code",
   "execution_count": null,
   "id": "bdc275e3-6f0c-4e70-a8d1-d1b251b7986b",
   "metadata": {},
   "outputs": [],
   "source": []
  },
  {
   "cell_type": "markdown",
   "id": "a48922a0",
   "metadata": {
    "id": "a48922a0"
   },
   "source": [
    "# Variables"
   ]
  },
  {
   "cell_type": "markdown",
   "id": "33961071",
   "metadata": {
    "id": "33961071"
   },
   "source": [
    "*  A Python variable is a reserved memory location to store values.\n",
    "* A variable is created the moment you first assign a value to it.\n"
   ]
  },
  {
   "cell_type": "code",
   "execution_count": 45,
   "id": "7cbe37ae-1c5c-412d-81ac-fb3a3c470925",
   "metadata": {},
   "outputs": [
    {
     "data": {
      "text/plain": [
       "1000"
      ]
     },
     "execution_count": 45,
     "metadata": {},
     "output_type": "execute_result"
    }
   ],
   "source": [
    "price =1000\n",
    "price"
   ]
  },
  {
   "cell_type": "code",
   "execution_count": 46,
   "id": "8118ce10-4129-401b-9de5-f240d295b67f",
   "metadata": {},
   "outputs": [
    {
     "data": {
      "text/plain": [
       "2312706718736"
      ]
     },
     "execution_count": 46,
     "metadata": {},
     "output_type": "execute_result"
    }
   ],
   "source": [
    "id(price)"
   ]
  },
  {
   "cell_type": "code",
   "execution_count": null,
   "id": "7261577b-b4cf-4d28-b6cf-d56ca4197442",
   "metadata": {},
   "outputs": [],
   "source": []
  },
  {
   "cell_type": "code",
   "execution_count": 47,
   "id": "28c95b5d-01c0-4391-b06c-c1b0fe11b034",
   "metadata": {},
   "outputs": [],
   "source": [
    "no_components =6"
   ]
  },
  {
   "cell_type": "code",
   "execution_count": 48,
   "id": "79419501-d4be-4ca8-8490-43d39a13de0e",
   "metadata": {},
   "outputs": [
    {
     "data": {
      "text/plain": [
       "2312589803920"
      ]
     },
     "execution_count": 48,
     "metadata": {},
     "output_type": "execute_result"
    }
   ],
   "source": [
    "id(no_components)"
   ]
  },
  {
   "cell_type": "code",
   "execution_count": 49,
   "id": "3e179460-f217-43ae-b74a-616a0659d076",
   "metadata": {},
   "outputs": [
    {
     "data": {
      "text/plain": [
       "2312706718736"
      ]
     },
     "execution_count": 49,
     "metadata": {},
     "output_type": "execute_result"
    }
   ],
   "source": [
    "id(price)"
   ]
  },
  {
   "cell_type": "code",
   "execution_count": 50,
   "id": "91407c66-44ef-4ce5-a8bb-bf2777a436de",
   "metadata": {},
   "outputs": [],
   "source": [
    "no_times=7"
   ]
  },
  {
   "cell_type": "code",
   "execution_count": 51,
   "id": "9f35f1c0-efcb-4933-8d6e-d6ed26f554cd",
   "metadata": {},
   "outputs": [
    {
     "name": "stdout",
     "output_type": "stream",
     "text": [
      "6\n",
      "7\n"
     ]
    },
    {
     "data": {
      "text/plain": [
       "1000"
      ]
     },
     "execution_count": 51,
     "metadata": {},
     "output_type": "execute_result"
    }
   ],
   "source": [
    "print(no_components)\n",
    "print(no_times)\n",
    "price"
   ]
  },
  {
   "cell_type": "code",
   "execution_count": null,
   "id": "bf55a398-f0d6-4813-a08c-0e6784c6a19b",
   "metadata": {},
   "outputs": [],
   "source": []
  },
  {
   "cell_type": "code",
   "execution_count": null,
   "id": "fb188ba2-2282-40d8-8315-d843a8843d8c",
   "metadata": {},
   "outputs": [],
   "source": []
  },
  {
   "cell_type": "code",
   "execution_count": null,
   "id": "fee53257-6800-43b9-bc9c-145ce3d7f644",
   "metadata": {},
   "outputs": [],
   "source": []
  },
  {
   "cell_type": "code",
   "execution_count": 52,
   "id": "85427289",
   "metadata": {
    "id": "85427289"
   },
   "outputs": [],
   "source": [
    "k=30 ## variable creation"
   ]
  },
  {
   "cell_type": "code",
   "execution_count": 53,
   "id": "3670495c",
   "metadata": {
    "id": "3670495c"
   },
   "outputs": [
    {
     "data": {
      "text/plain": [
       "30"
      ]
     },
     "execution_count": 53,
     "metadata": {},
     "output_type": "execute_result"
    }
   ],
   "source": [
    "k ## calling of variable"
   ]
  },
  {
   "cell_type": "code",
   "execution_count": 54,
   "id": "fd3cbba9",
   "metadata": {
    "id": "fd3cbba9"
   },
   "outputs": [
    {
     "name": "stdout",
     "output_type": "stream",
     "text": [
      "30\n"
     ]
    }
   ],
   "source": [
    "print(k) ## print the variable"
   ]
  },
  {
   "cell_type": "markdown",
   "id": "c7408418-dcbc-46b7-a889-37a366ab4278",
   "metadata": {},
   "source": [
    "## string"
   ]
  },
  {
   "cell_type": "code",
   "execution_count": 55,
   "id": "f8c6f171-36ca-4008-99a6-0b448714e4a0",
   "metadata": {},
   "outputs": [
    {
     "data": {
      "text/plain": [
       "'777'"
      ]
     },
     "execution_count": 55,
     "metadata": {},
     "output_type": "execute_result"
    }
   ],
   "source": [
    "\"777\""
   ]
  },
  {
   "cell_type": "code",
   "execution_count": 56,
   "id": "de841df9-540d-4f09-898c-40d05b1add2d",
   "metadata": {},
   "outputs": [],
   "source": [
    "text =99999"
   ]
  },
  {
   "cell_type": "code",
   "execution_count": 57,
   "id": "bc44094a-d6aa-4721-803b-08cecf51feb7",
   "metadata": {},
   "outputs": [
    {
     "data": {
      "text/plain": [
       "'text'"
      ]
     },
     "execution_count": 57,
     "metadata": {},
     "output_type": "execute_result"
    }
   ],
   "source": [
    "\"text\""
   ]
  },
  {
   "cell_type": "code",
   "execution_count": 58,
   "id": "4f42ef64-03b5-493d-b2bc-b9a80f1858be",
   "metadata": {},
   "outputs": [
    {
     "data": {
      "text/plain": [
       "'%%%%&&&'"
      ]
     },
     "execution_count": 58,
     "metadata": {},
     "output_type": "execute_result"
    }
   ],
   "source": [
    "\"%%%%&&&\""
   ]
  },
  {
   "cell_type": "code",
   "execution_count": null,
   "id": "d2268369-f261-442e-aa3b-bf4612f1b5f5",
   "metadata": {},
   "outputs": [],
   "source": []
  },
  {
   "cell_type": "code",
   "execution_count": null,
   "id": "0fe9eb98-7168-44be-ad84-8308269917b9",
   "metadata": {},
   "outputs": [],
   "source": []
  },
  {
   "cell_type": "code",
   "execution_count": 59,
   "id": "ad65dafa",
   "metadata": {
    "id": "ad65dafa"
   },
   "outputs": [
    {
     "name": "stdout",
     "output_type": "stream",
     "text": [
      "This is print function\n",
      " this is a next line\n"
     ]
    }
   ],
   "source": [
    "print('This is print function\\n this is a next line')"
   ]
  },
  {
   "cell_type": "code",
   "execution_count": 60,
   "id": "f758df5c",
   "metadata": {
    "id": "f758df5c"
   },
   "outputs": [
    {
     "name": "stdout",
     "output_type": "stream",
     "text": [
      "This is print function with double quotes\n"
     ]
    }
   ],
   "source": [
    "print(\"This is print function with double quotes\")"
   ]
  },
  {
   "cell_type": "code",
   "execution_count": 61,
   "id": "ace0954e",
   "metadata": {
    "id": "ace0954e"
   },
   "outputs": [
    {
     "name": "stdout",
     "output_type": "stream",
     "text": [
      "12\n"
     ]
    }
   ],
   "source": [
    "print(12)"
   ]
  },
  {
   "cell_type": "code",
   "execution_count": 62,
   "id": "fdc032dd",
   "metadata": {
    "id": "fdc032dd"
   },
   "outputs": [
    {
     "name": "stdout",
     "output_type": "stream",
     "text": [
      "b\n"
     ]
    }
   ],
   "source": [
    "print('b')"
   ]
  },
  {
   "cell_type": "code",
   "execution_count": 63,
   "id": "aab4b900-d45e-4018-bf63-e30bf4729292",
   "metadata": {},
   "outputs": [],
   "source": [
    "x1 = \"hi everyone\""
   ]
  },
  {
   "cell_type": "code",
   "execution_count": 64,
   "id": "aa9c9da5-e61b-4104-9769-eb7489a6c892",
   "metadata": {},
   "outputs": [
    {
     "name": "stdout",
     "output_type": "stream",
     "text": [
      "hi everyone\n"
     ]
    }
   ],
   "source": [
    "print(x1)"
   ]
  },
  {
   "cell_type": "code",
   "execution_count": 47,
   "id": "016fda5e",
   "metadata": {
    "id": "016fda5e"
   },
   "outputs": [
    {
     "ename": "NameError",
     "evalue": "name 'k' is not defined",
     "output_type": "error",
     "traceback": [
      "\u001b[1;31m---------------------------------------------------------------------------\u001b[0m",
      "\u001b[1;31mNameError\u001b[0m                                 Traceback (most recent call last)",
      "Cell \u001b[1;32mIn[47], line 1\u001b[0m\n\u001b[1;32m----> 1\u001b[0m \u001b[38;5;28mtype\u001b[39m(k)\n",
      "\u001b[1;31mNameError\u001b[0m: name 'k' is not defined"
     ]
    }
   ],
   "source": [
    "type(k) # To know the datatype of python objects"
   ]
  },
  {
   "cell_type": "code",
   "execution_count": 65,
   "id": "98af36cc",
   "metadata": {
    "id": "98af36cc"
   },
   "outputs": [],
   "source": [
    "b=35.5"
   ]
  },
  {
   "cell_type": "code",
   "execution_count": 66,
   "id": "c2f1ec0d",
   "metadata": {
    "id": "c2f1ec0d"
   },
   "outputs": [
    {
     "data": {
      "text/plain": [
       "float"
      ]
     },
     "execution_count": 66,
     "metadata": {},
     "output_type": "execute_result"
    }
   ],
   "source": [
    "type(b)"
   ]
  },
  {
   "cell_type": "code",
   "execution_count": 67,
   "id": "14026be1",
   "metadata": {
    "id": "14026be1"
   },
   "outputs": [
    {
     "data": {
      "text/plain": [
       "bool"
      ]
     },
     "execution_count": 67,
     "metadata": {},
     "output_type": "execute_result"
    }
   ],
   "source": [
    "c=True\n",
    "type(c)"
   ]
  },
  {
   "cell_type": "code",
   "execution_count": 68,
   "id": "fcdefe0b",
   "metadata": {
    "id": "fcdefe0b"
   },
   "outputs": [
    {
     "data": {
      "text/plain": [
       "NoneType"
      ]
     },
     "execution_count": 68,
     "metadata": {},
     "output_type": "execute_result"
    }
   ],
   "source": [
    "d=None\n",
    "type(d)"
   ]
  },
  {
   "cell_type": "code",
   "execution_count": 69,
   "id": "13b4afdf-a802-48ec-857e-6dfc3ad6491a",
   "metadata": {},
   "outputs": [
    {
     "data": {
      "text/plain": [
       "bool"
      ]
     },
     "execution_count": 69,
     "metadata": {},
     "output_type": "execute_result"
    }
   ],
   "source": [
    "d =True\n",
    "type(d)"
   ]
  },
  {
   "cell_type": "raw",
   "id": "9a9307a5-0272-4498-9de5-48b51097d2a0",
   "metadata": {},
   "source": [
    "=  and  =="
   ]
  },
  {
   "cell_type": "code",
   "execution_count": 70,
   "id": "bd1fe41d-dddc-4880-b78c-3a91cddfc123",
   "metadata": {},
   "outputs": [],
   "source": [
    "# = assignment operator\n",
    "## == comparision "
   ]
  },
  {
   "cell_type": "markdown",
   "id": "c4e3a2d2",
   "metadata": {
    "id": "c4e3a2d2"
   },
   "source": [
    "## Variable Assignment"
   ]
  },
  {
   "cell_type": "code",
   "execution_count": 71,
   "id": "f741d376",
   "metadata": {
    "id": "f741d376",
    "scrolled": true
   },
   "outputs": [
    {
     "name": "stdout",
     "output_type": "stream",
     "text": [
      "10\n",
      "2.57\n",
      "Python Language\n"
     ]
    }
   ],
   "source": [
    "intvar = 10 # Integer variable\n",
    "floatvar = 2.57 # Float Variable\n",
    "strvar = \"Python Language\" # String variable\n",
    "print(intvar)\n",
    "print(floatvar)\n",
    "print(strvar)"
   ]
  },
  {
   "cell_type": "markdown",
   "id": "aff84426",
   "metadata": {
    "id": "aff84426"
   },
   "source": [
    "# Multiple Assignment"
   ]
  },
  {
   "cell_type": "code",
   "execution_count": 72,
   "id": "183e761d-e215-4a00-8720-77e64c18ab8e",
   "metadata": {},
   "outputs": [],
   "source": [
    "a,b,c,d,e = 88,99,66,0,3"
   ]
  },
  {
   "cell_type": "code",
   "execution_count": 73,
   "id": "a9e5be22-849f-47a7-9ddc-c2ee77bf5b77",
   "metadata": {},
   "outputs": [
    {
     "data": {
      "text/plain": [
       "0"
      ]
     },
     "execution_count": 73,
     "metadata": {},
     "output_type": "execute_result"
    }
   ],
   "source": [
    "d"
   ]
  },
  {
   "cell_type": "code",
   "execution_count": 74,
   "id": "ff930c46-2017-4217-b97a-606abeb7e59f",
   "metadata": {},
   "outputs": [
    {
     "data": {
      "text/plain": [
       "88"
      ]
     },
     "execution_count": 74,
     "metadata": {},
     "output_type": "execute_result"
    }
   ],
   "source": [
    "a"
   ]
  },
  {
   "cell_type": "code",
   "execution_count": 75,
   "id": "be3298c2-d4cb-44c9-a8c6-e679aca799a1",
   "metadata": {},
   "outputs": [
    {
     "data": {
      "text/plain": [
       "99"
      ]
     },
     "execution_count": 75,
     "metadata": {},
     "output_type": "execute_result"
    }
   ],
   "source": [
    "b"
   ]
  },
  {
   "cell_type": "code",
   "execution_count": 76,
   "id": "d4683b2a",
   "metadata": {
    "id": "d4683b2a",
    "scrolled": true
   },
   "outputs": [
    {
     "name": "stdout",
     "output_type": "stream",
     "text": [
      "10\n",
      "2.57\n",
      "Python Language\n"
     ]
    }
   ],
   "source": [
    "intvar , floatvar , strvar = 10,2.57,\"Python Language\"\n",
    "# Using commas to separate variables\n",
    "print(intvar)\n",
    "print(floatvar)\n",
    "print(strvar)"
   ]
  },
  {
   "cell_type": "code",
   "execution_count": 77,
   "id": "f486c066",
   "metadata": {
    "id": "f486c066"
   },
   "outputs": [
    {
     "name": "stdout",
     "output_type": "stream",
     "text": [
      "10 2.57 Python Language\n"
     ]
    }
   ],
   "source": [
    "print(intvar,floatvar,strvar)"
   ]
  },
  {
   "cell_type": "code",
   "execution_count": 78,
   "id": "1644ff55",
   "metadata": {
    "id": "1644ff55",
    "scrolled": true
   },
   "outputs": [
    {
     "name": "stdout",
     "output_type": "stream",
     "text": [
      "44 44 44 44\n"
     ]
    }
   ],
   "source": [
    "p1 = p2 = p3 = p4 = 44\n",
    "# All variables pointing to same value\n",
    "print(p1,p2,p3,p4)"
   ]
  },
  {
   "cell_type": "code",
   "execution_count": 79,
   "id": "e82513f2-7e0a-44a2-9c51-8157ad1df6bf",
   "metadata": {},
   "outputs": [],
   "source": [
    "k1=k2=k3=99"
   ]
  },
  {
   "cell_type": "code",
   "execution_count": 80,
   "id": "2e9825b4-06f5-43a8-a2af-44d1ad35dee2",
   "metadata": {},
   "outputs": [
    {
     "data": {
      "text/plain": [
       "99"
      ]
     },
     "execution_count": 80,
     "metadata": {},
     "output_type": "execute_result"
    }
   ],
   "source": [
    "k2"
   ]
  },
  {
   "cell_type": "code",
   "execution_count": 81,
   "id": "e879292a-07b9-4bfe-adc1-d82d4cff4925",
   "metadata": {},
   "outputs": [
    {
     "data": {
      "text/plain": [
       "99"
      ]
     },
     "execution_count": 81,
     "metadata": {},
     "output_type": "execute_result"
    }
   ],
   "source": [
    "k1"
   ]
  },
  {
   "cell_type": "markdown",
   "id": "37f99688",
   "metadata": {
    "id": "37f99688"
   },
   "source": [
    "# Data Types"
   ]
  },
  {
   "cell_type": "code",
   "execution_count": 82,
   "id": "a93ea40e-547e-40b4-8c21-014ed2ec8786",
   "metadata": {},
   "outputs": [
    {
     "data": {
      "text/plain": [
       "str"
      ]
     },
     "execution_count": 82,
     "metadata": {},
     "output_type": "execute_result"
    }
   ],
   "source": [
    "type(\"99\")"
   ]
  },
  {
   "cell_type": "code",
   "execution_count": 83,
   "id": "34cbcc44-c389-46a3-b9d3-5553bc8389f7",
   "metadata": {},
   "outputs": [],
   "source": [
    "bangalore = \"99999999999999999999999999999999.9999999999999999\""
   ]
  },
  {
   "cell_type": "code",
   "execution_count": 84,
   "id": "a1818845-83ca-4bde-b6d8-a94d36995729",
   "metadata": {},
   "outputs": [
    {
     "data": {
      "text/plain": [
       "str"
      ]
     },
     "execution_count": 84,
     "metadata": {},
     "output_type": "execute_result"
    }
   ],
   "source": [
    "type(bangalore)"
   ]
  },
  {
   "cell_type": "code",
   "execution_count": 85,
   "id": "c08d78cc-3856-44a1-819e-32279f62f340",
   "metadata": {},
   "outputs": [],
   "source": [
    "import sys"
   ]
  },
  {
   "cell_type": "code",
   "execution_count": 86,
   "id": "947a1c50-a9ab-4584-9778-49a9c4668f0e",
   "metadata": {},
   "outputs": [
    {
     "name": "stdout",
     "output_type": "stream",
     "text": [
      "Help on built-in module sys:\n",
      "\n",
      "NAME\n",
      "    sys\n",
      "\n",
      "MODULE REFERENCE\n",
      "    https://docs.python.org/3.10/library/sys.html\n",
      "    \n",
      "    The following documentation is automatically generated from the Python\n",
      "    source files.  It may be incomplete, incorrect or include features that\n",
      "    are considered implementation detail and may vary between Python\n",
      "    implementations.  When in doubt, consult the module reference at the\n",
      "    location listed above.\n",
      "\n",
      "DESCRIPTION\n",
      "    This module provides access to some objects used or maintained by the\n",
      "    interpreter and to functions that interact strongly with the interpreter.\n",
      "    \n",
      "    Dynamic objects:\n",
      "    \n",
      "    argv -- command line arguments; argv[0] is the script pathname if known\n",
      "    path -- module search path; path[0] is the script directory, else ''\n",
      "    modules -- dictionary of loaded modules\n",
      "    \n",
      "    displayhook -- called to show results in an interactive session\n",
      "    excepthook -- called to handle any uncaught exception other than SystemExit\n",
      "      To customize printing in an interactive session or to install a custom\n",
      "      top-level exception handler, assign other functions to replace these.\n",
      "    \n",
      "    stdin -- standard input file object; used by input()\n",
      "    stdout -- standard output file object; used by print()\n",
      "    stderr -- standard error object; used for error messages\n",
      "      By assigning other file objects (or objects that behave like files)\n",
      "      to these, it is possible to redirect all of the interpreter's I/O.\n",
      "    \n",
      "    last_type -- type of last uncaught exception\n",
      "    last_value -- value of last uncaught exception\n",
      "    last_traceback -- traceback of last uncaught exception\n",
      "      These three are only available in an interactive session after a\n",
      "      traceback has been printed.\n",
      "    \n",
      "    Static objects:\n",
      "    \n",
      "    builtin_module_names -- tuple of module names built into this interpreter\n",
      "    copyright -- copyright notice pertaining to this interpreter\n",
      "    exec_prefix -- prefix used to find the machine-specific Python library\n",
      "    executable -- absolute path of the executable binary of the Python interpreter\n",
      "    float_info -- a named tuple with information about the float implementation.\n",
      "    float_repr_style -- string indicating the style of repr() output for floats\n",
      "    hash_info -- a named tuple with information about the hash algorithm.\n",
      "    hexversion -- version information encoded as a single integer\n",
      "    implementation -- Python implementation information.\n",
      "    int_info -- a named tuple with information about the int implementation.\n",
      "    maxsize -- the largest supported length of containers.\n",
      "    maxunicode -- the value of the largest Unicode code point\n",
      "    platform -- platform identifier\n",
      "    prefix -- prefix used to find the Python library\n",
      "    thread_info -- a named tuple with information about the thread implementation.\n",
      "    version -- the version of this interpreter as a string\n",
      "    version_info -- version information as a named tuple\n",
      "    dllhandle -- [Windows only] integer handle of the Python DLL\n",
      "    winver -- [Windows only] version number of the Python DLL\n",
      "    _enablelegacywindowsfsencoding -- [Windows only]\n",
      "    __stdin__ -- the original stdin; don't touch!\n",
      "    __stdout__ -- the original stdout; don't touch!\n",
      "    __stderr__ -- the original stderr; don't touch!\n",
      "    __displayhook__ -- the original displayhook; don't touch!\n",
      "    __excepthook__ -- the original excepthook; don't touch!\n",
      "    \n",
      "    Functions:\n",
      "    \n",
      "    displayhook() -- print an object to the screen, and save it in builtins._\n",
      "    excepthook() -- print an exception and its traceback to sys.stderr\n",
      "    exc_info() -- return thread-safe information about the current exception\n",
      "    exit() -- exit the interpreter by raising SystemExit\n",
      "    getdlopenflags() -- returns flags to be used for dlopen() calls\n",
      "    getprofile() -- get the global profiling function\n",
      "    getrefcount() -- return the reference count for an object (plus one :-)\n",
      "    getrecursionlimit() -- return the max recursion depth for the interpreter\n",
      "    getsizeof() -- return the size of an object in bytes\n",
      "    gettrace() -- get the global debug tracing function\n",
      "    setdlopenflags() -- set the flags to be used for dlopen() calls\n",
      "    setprofile() -- set the global profiling function\n",
      "    setrecursionlimit() -- set the max recursion depth for the interpreter\n",
      "    settrace() -- set the global debug tracing function\n",
      "\n",
      "FUNCTIONS\n",
      "    __breakpointhook__ = breakpointhook(...)\n",
      "        breakpointhook(*args, **kws)\n",
      "        \n",
      "        This hook function is called by built-in breakpoint().\n",
      "    \n",
      "    __displayhook__ = displayhook(object, /)\n",
      "        Print an object to sys.stdout and also save it in builtins._\n",
      "    \n",
      "    __excepthook__ = excepthook(exctype, value, traceback, /)\n",
      "        Handle an exception by displaying it with a traceback on sys.stderr.\n",
      "    \n",
      "    __unraisablehook__ = unraisablehook(unraisable, /)\n",
      "        Handle an unraisable exception.\n",
      "        \n",
      "        The unraisable argument has the following attributes:\n",
      "        \n",
      "        * exc_type: Exception type.\n",
      "        * exc_value: Exception value, can be None.\n",
      "        * exc_traceback: Exception traceback, can be None.\n",
      "        * err_msg: Error message, can be None.\n",
      "        * object: Object causing the exception, can be None.\n",
      "    \n",
      "    addaudithook(hook)\n",
      "        Adds a new audit hook callback.\n",
      "    \n",
      "    audit(...)\n",
      "        audit(event, *args)\n",
      "        \n",
      "        Passes the event to any audit hooks that are attached.\n",
      "    \n",
      "    call_tracing(func, args, /)\n",
      "        Call func(*args), while tracing is enabled.\n",
      "        \n",
      "        The tracing state is saved, and restored afterwards.  This is intended\n",
      "        to be called from a debugger from a checkpoint, to recursively debug\n",
      "        some other code.\n",
      "    \n",
      "    exc_info()\n",
      "        Return current exception information: (type, value, traceback).\n",
      "        \n",
      "        Return information about the most recent exception caught by an except\n",
      "        clause in the current stack frame or in an older stack frame.\n",
      "    \n",
      "    exit(status=None, /)\n",
      "        Exit the interpreter by raising SystemExit(status).\n",
      "        \n",
      "        If the status is omitted or None, it defaults to zero (i.e., success).\n",
      "        If the status is an integer, it will be used as the system exit status.\n",
      "        If it is another kind of object, it will be printed and the system\n",
      "        exit status will be one (i.e., failure).\n",
      "    \n",
      "    get_asyncgen_hooks()\n",
      "        Return the installed asynchronous generators hooks.\n",
      "        \n",
      "        This returns a namedtuple of the form (firstiter, finalizer).\n",
      "    \n",
      "    get_coroutine_origin_tracking_depth()\n",
      "        Check status of origin tracking for coroutine objects in this thread.\n",
      "    \n",
      "    get_int_max_str_digits()\n",
      "        Set the maximum string digits limit for non-binary int<->str conversions.\n",
      "    \n",
      "    getallocatedblocks()\n",
      "        Return the number of memory blocks currently allocated.\n",
      "    \n",
      "    getdefaultencoding()\n",
      "        Return the current default encoding used by the Unicode implementation.\n",
      "    \n",
      "    getfilesystemencodeerrors()\n",
      "        Return the error mode used Unicode to OS filename conversion.\n",
      "    \n",
      "    getfilesystemencoding()\n",
      "        Return the encoding used to convert Unicode filenames to OS filenames.\n",
      "    \n",
      "    getprofile()\n",
      "        Return the profiling function set with sys.setprofile.\n",
      "        \n",
      "        See the profiler chapter in the library manual.\n",
      "    \n",
      "    getrecursionlimit()\n",
      "        Return the current value of the recursion limit.\n",
      "        \n",
      "        The recursion limit is the maximum depth of the Python interpreter\n",
      "        stack.  This limit prevents infinite recursion from causing an overflow\n",
      "        of the C stack and crashing Python.\n",
      "    \n",
      "    getrefcount(object, /)\n",
      "        Return the reference count of object.\n",
      "        \n",
      "        The count returned is generally one higher than you might expect,\n",
      "        because it includes the (temporary) reference as an argument to\n",
      "        getrefcount().\n",
      "    \n",
      "    getsizeof(...)\n",
      "        getsizeof(object [, default]) -> int\n",
      "        \n",
      "        Return the size of object in bytes.\n",
      "    \n",
      "    getswitchinterval()\n",
      "        Return the current thread switch interval; see sys.setswitchinterval().\n",
      "    \n",
      "    gettrace()\n",
      "        Return the global debug tracing function set with sys.settrace.\n",
      "        \n",
      "        See the debugger chapter in the library manual.\n",
      "    \n",
      "    getwindowsversion()\n",
      "        Return info about the running version of Windows as a named tuple.\n",
      "        \n",
      "        The members are named: major, minor, build, platform, service_pack,\n",
      "        service_pack_major, service_pack_minor, suite_mask, product_type and\n",
      "        platform_version. For backward compatibility, only the first 5 items\n",
      "        are available by indexing. All elements are numbers, except\n",
      "        service_pack and platform_type which are strings, and platform_version\n",
      "        which is a 3-tuple. Platform is always 2. Product_type may be 1 for a\n",
      "        workstation, 2 for a domain controller, 3 for a server.\n",
      "        Platform_version is a 3-tuple containing a version number that is\n",
      "        intended for identifying the OS rather than feature detection.\n",
      "    \n",
      "    intern(string, /)\n",
      "        ``Intern'' the given string.\n",
      "        \n",
      "        This enters the string in the (global) table of interned strings whose\n",
      "        purpose is to speed up dictionary lookups. Return the string itself or\n",
      "        the previously interned string object with the same value.\n",
      "    \n",
      "    is_finalizing()\n",
      "        Return True if Python is exiting.\n",
      "    \n",
      "    set_asyncgen_hooks(...)\n",
      "        set_asyncgen_hooks(* [, firstiter] [, finalizer])\n",
      "        \n",
      "        Set a finalizer for async generators objects.\n",
      "    \n",
      "    set_coroutine_origin_tracking_depth(depth)\n",
      "        Enable or disable origin tracking for coroutine objects in this thread.\n",
      "        \n",
      "        Coroutine objects will track 'depth' frames of traceback information\n",
      "        about where they came from, available in their cr_origin attribute.\n",
      "        \n",
      "        Set a depth of 0 to disable.\n",
      "    \n",
      "    set_int_max_str_digits(maxdigits)\n",
      "        Set the maximum string digits limit for non-binary int<->str conversions.\n",
      "    \n",
      "    setprofile(...)\n",
      "        setprofile(function)\n",
      "        \n",
      "        Set the profiling function.  It will be called on each function call\n",
      "        and return.  See the profiler chapter in the library manual.\n",
      "    \n",
      "    setrecursionlimit(limit, /)\n",
      "        Set the maximum depth of the Python interpreter stack to n.\n",
      "        \n",
      "        This limit prevents infinite recursion from causing an overflow of the C\n",
      "        stack and crashing Python.  The highest possible limit is platform-\n",
      "        dependent.\n",
      "    \n",
      "    setswitchinterval(interval, /)\n",
      "        Set the ideal thread switching delay inside the Python interpreter.\n",
      "        \n",
      "        The actual frequency of switching threads can be lower if the\n",
      "        interpreter executes long sequences of uninterruptible code\n",
      "        (this is implementation-specific and workload-dependent).\n",
      "        \n",
      "        The parameter must represent the desired switching delay in seconds\n",
      "        A typical value is 0.005 (5 milliseconds).\n",
      "    \n",
      "    settrace(...)\n",
      "        settrace(function)\n",
      "        \n",
      "        Set the global debug tracing function.  It will be called on each\n",
      "        function call.  See the debugger chapter in the library manual.\n",
      "    \n",
      "    unraisablehook(unraisable, /)\n",
      "        Handle an unraisable exception.\n",
      "        \n",
      "        The unraisable argument has the following attributes:\n",
      "        \n",
      "        * exc_type: Exception type.\n",
      "        * exc_value: Exception value, can be None.\n",
      "        * exc_traceback: Exception traceback, can be None.\n",
      "        * err_msg: Error message, can be None.\n",
      "        * object: Object causing the exception, can be None.\n",
      "\n",
      "DATA\n",
      "    __stderr__ = <_io.TextIOWrapper name='<stderr>' mode='w' encoding='utf...\n",
      "    __stdin__ = <_io.TextIOWrapper name='<stdin>' mode='r' encoding='cp125...\n",
      "    __stdout__ = <_io.TextIOWrapper name='<stdout>' mode='w' encoding='utf...\n",
      "    __warningregistry__ = {'version': 9}\n",
      "    api_version = 1013\n",
      "    argv = [r'C:\\Program Files\\Anaconda3\\lib\\site-packages\\ipykernel_launc...\n",
      "    base_exec_prefix = r'C:\\Program Files\\Anaconda3'\n",
      "    base_prefix = r'C:\\Program Files\\Anaconda3'\n",
      "    builtin_module_names = ('_abc', '_ast', '_bisect', '_blake2', '_codecs...\n",
      "    byteorder = 'little'\n",
      "    copyright = 'Copyright (c) 2001-2022 Python Software Foundati...ematis...\n",
      "    displayhook = <ipykernel.displayhook.ZMQShellDisplayHook object>\n",
      "    dllhandle = 140721947017216\n",
      "    dont_write_bytecode = False\n",
      "    exec_prefix = r'C:\\Program Files\\Anaconda3'\n",
      "    executable = r'C:\\Program Files\\Anaconda3\\python.exe'\n",
      "    flags = sys.flags(debug=0, inspect=0, interactive=0, opt..., warn_defa...\n",
      "    float_info = sys.float_info(max=1.7976931348623157e+308, max_...epsilo...\n",
      "    float_repr_style = 'short'\n",
      "    hash_info = sys.hash_info(width=64, modulus=2305843009213693...iphash2...\n",
      "    hexversion = 50989552\n",
      "    implementation = namespace(name='cpython', cache_tag='cpython-310...as...\n",
      "    int_info = sys.int_info(bits_per_digit=30, sizeof_digit=4, ..._str_dig...\n",
      "    last_value = SyntaxError('incomplete input', ('C:\\\\Users\\\\ksj...tiple ...\n",
      "    maxsize = 9223372036854775807\n",
      "    maxunicode = 1114111\n",
      "    meta_path = [<_distutils_hack.DistutilsMetaFinder object>, <class '_fr...\n",
      "    modules = {'IPython': <module 'IPython' from 'C:\\\\Program Files\\\\Anaco...\n",
      "    orig_argv = [r'C:/Program Files/Anaconda3\\python.exe', '-m', 'ipykerne...\n",
      "    path = [r'C:\\Users\\ksjee', r'C:\\Program Files\\Anaconda3\\python310.zip'...\n",
      "    path_hooks = [<class 'zipimport.zipimporter'>, <function FileFinder.pa...\n",
      "    path_importer_cache = {r'C:\\Program Files\\Anaconda3': FileFinder('C:\\\\...\n",
      "    platform = 'win32'\n",
      "    platlibdir = 'lib'\n",
      "    prefix = r'C:\\Program Files\\Anaconda3'\n",
      "    ps1 = 'In : '\n",
      "    ps2 = '...: '\n",
      "    ps3 = 'Out: '\n",
      "    pycache_prefix = None\n",
      "    stderr = <ipykernel.iostream.OutStream object>\n",
      "    stdin = <_io.TextIOWrapper name='<stdin>' mode='r' encoding='cp1252'>\n",
      "    stdlib_module_names = frozenset({'__future__', '_abc', '_aix_support',...\n",
      "    stdout = <ipykernel.iostream.OutStream object>\n",
      "    thread_info = sys.thread_info(name='nt', lock=None, version=None)\n",
      "    version = '3.10.9 | packaged by Anaconda, Inc. | (main, Mar  1 2023, 1...\n",
      "    version_info = sys.version_info(major=3, minor=10, micro=9, releaselev...\n",
      "    warnoptions = []\n",
      "    winver = '3.10'\n",
      "\n",
      "FILE\n",
      "    (built-in)\n",
      "\n",
      "\n"
     ]
    }
   ],
   "source": [
    "help(sys)"
   ]
  },
  {
   "cell_type": "code",
   "execution_count": 83,
   "id": "b256ceed-1ab2-491f-baf9-ec82b16b3750",
   "metadata": {},
   "outputs": [
    {
     "data": {
      "text/plain": [
       "98"
      ]
     },
     "execution_count": 83,
     "metadata": {},
     "output_type": "execute_result"
    }
   ],
   "source": [
    "sys.getsizeof(bangalore)"
   ]
  },
  {
   "cell_type": "code",
   "execution_count": 78,
   "id": "5dd23e5f-fc6b-4501-bab9-56c56fdc4802",
   "metadata": {},
   "outputs": [
    {
     "name": "stdout",
     "output_type": "stream",
     "text": [
      "Help on built-in module sys:\n",
      "\n",
      "NAME\n",
      "    sys\n",
      "\n",
      "MODULE REFERENCE\n",
      "    https://docs.python.org/3.11/library/sys.html\n",
      "    \n",
      "    The following documentation is automatically generated from the Python\n",
      "    source files.  It may be incomplete, incorrect or include features that\n",
      "    are considered implementation detail and may vary between Python\n",
      "    implementations.  When in doubt, consult the module reference at the\n",
      "    location listed above.\n",
      "\n",
      "DESCRIPTION\n",
      "    This module provides access to some objects used or maintained by the\n",
      "    interpreter and to functions that interact strongly with the interpreter.\n",
      "    \n",
      "    Dynamic objects:\n",
      "    \n",
      "    argv -- command line arguments; argv[0] is the script pathname if known\n",
      "    path -- module search path; path[0] is the script directory, else ''\n",
      "    modules -- dictionary of loaded modules\n",
      "    \n",
      "    displayhook -- called to show results in an interactive session\n",
      "    excepthook -- called to handle any uncaught exception other than SystemExit\n",
      "      To customize printing in an interactive session or to install a custom\n",
      "      top-level exception handler, assign other functions to replace these.\n",
      "    \n",
      "    stdin -- standard input file object; used by input()\n",
      "    stdout -- standard output file object; used by print()\n",
      "    stderr -- standard error object; used for error messages\n",
      "      By assigning other file objects (or objects that behave like files)\n",
      "      to these, it is possible to redirect all of the interpreter's I/O.\n",
      "    \n",
      "    last_type -- type of last uncaught exception\n",
      "    last_value -- value of last uncaught exception\n",
      "    last_traceback -- traceback of last uncaught exception\n",
      "      These three are only available in an interactive session after a\n",
      "      traceback has been printed.\n",
      "    \n",
      "    Static objects:\n",
      "    \n",
      "    builtin_module_names -- tuple of module names built into this interpreter\n",
      "    copyright -- copyright notice pertaining to this interpreter\n",
      "    exec_prefix -- prefix used to find the machine-specific Python library\n",
      "    executable -- absolute path of the executable binary of the Python interpreter\n",
      "    float_info -- a named tuple with information about the float implementation.\n",
      "    float_repr_style -- string indicating the style of repr() output for floats\n",
      "    hash_info -- a named tuple with information about the hash algorithm.\n",
      "    hexversion -- version information encoded as a single integer\n",
      "    implementation -- Python implementation information.\n",
      "    int_info -- a named tuple with information about the int implementation.\n",
      "    maxsize -- the largest supported length of containers.\n",
      "    maxunicode -- the value of the largest Unicode code point\n",
      "    platform -- platform identifier\n",
      "    prefix -- prefix used to find the Python library\n",
      "    thread_info -- a named tuple with information about the thread implementation.\n",
      "    version -- the version of this interpreter as a string\n",
      "    version_info -- version information as a named tuple\n",
      "    dllhandle -- [Windows only] integer handle of the Python DLL\n",
      "    winver -- [Windows only] version number of the Python DLL\n",
      "    _enablelegacywindowsfsencoding -- [Windows only]\n",
      "    __stdin__ -- the original stdin; don't touch!\n",
      "    __stdout__ -- the original stdout; don't touch!\n",
      "    __stderr__ -- the original stderr; don't touch!\n",
      "    __displayhook__ -- the original displayhook; don't touch!\n",
      "    __excepthook__ -- the original excepthook; don't touch!\n",
      "    \n",
      "    Functions:\n",
      "    \n",
      "    displayhook() -- print an object to the screen, and save it in builtins._\n",
      "    excepthook() -- print an exception and its traceback to sys.stderr\n",
      "    exception() -- return the current thread's active exception\n",
      "    exc_info() -- return information about the current thread's active exception\n",
      "    exit() -- exit the interpreter by raising SystemExit\n",
      "    getdlopenflags() -- returns flags to be used for dlopen() calls\n",
      "    getprofile() -- get the global profiling function\n",
      "    getrefcount() -- return the reference count for an object (plus one :-)\n",
      "    getrecursionlimit() -- return the max recursion depth for the interpreter\n",
      "    getsizeof() -- return the size of an object in bytes\n",
      "    gettrace() -- get the global debug tracing function\n",
      "    setdlopenflags() -- set the flags to be used for dlopen() calls\n",
      "    setprofile() -- set the global profiling function\n",
      "    setrecursionlimit() -- set the max recursion depth for the interpreter\n",
      "    settrace() -- set the global debug tracing function\n",
      "\n",
      "FUNCTIONS\n",
      "    __breakpointhook__ = breakpointhook(...)\n",
      "        breakpointhook(*args, **kws)\n",
      "        \n",
      "        This hook function is called by built-in breakpoint().\n",
      "    \n",
      "    __displayhook__ = displayhook(object, /)\n",
      "        Print an object to sys.stdout and also save it in builtins._\n",
      "    \n",
      "    __excepthook__ = excepthook(exctype, value, traceback, /)\n",
      "        Handle an exception by displaying it with a traceback on sys.stderr.\n",
      "    \n",
      "    __unraisablehook__ = unraisablehook(unraisable, /)\n",
      "        Handle an unraisable exception.\n",
      "        \n",
      "        The unraisable argument has the following attributes:\n",
      "        \n",
      "        * exc_type: Exception type.\n",
      "        * exc_value: Exception value, can be None.\n",
      "        * exc_traceback: Exception traceback, can be None.\n",
      "        * err_msg: Error message, can be None.\n",
      "        * object: Object causing the exception, can be None.\n",
      "    \n",
      "    addaudithook(hook)\n",
      "        Adds a new audit hook callback.\n",
      "    \n",
      "    audit(...)\n",
      "        audit(event, *args)\n",
      "        \n",
      "        Passes the event to any audit hooks that are attached.\n",
      "    \n",
      "    call_tracing(func, args, /)\n",
      "        Call func(*args), while tracing is enabled.\n",
      "        \n",
      "        The tracing state is saved, and restored afterwards.  This is intended\n",
      "        to be called from a debugger from a checkpoint, to recursively debug\n",
      "        some other code.\n",
      "    \n",
      "    exc_info()\n",
      "        Return current exception information: (type, value, traceback).\n",
      "        \n",
      "        Return information about the most recent exception caught by an except\n",
      "        clause in the current stack frame or in an older stack frame.\n",
      "    \n",
      "    exception()\n",
      "        Return the current exception.\n",
      "        \n",
      "        Return the most recent exception caught by an except clause\n",
      "        in the current stack frame or in an older stack frame, or None\n",
      "        if no such exception exists.\n",
      "    \n",
      "    exit(status=None, /)\n",
      "        Exit the interpreter by raising SystemExit(status).\n",
      "        \n",
      "        If the status is omitted or None, it defaults to zero (i.e., success).\n",
      "        If the status is an integer, it will be used as the system exit status.\n",
      "        If it is another kind of object, it will be printed and the system\n",
      "        exit status will be one (i.e., failure).\n",
      "    \n",
      "    get_asyncgen_hooks()\n",
      "        Return the installed asynchronous generators hooks.\n",
      "        \n",
      "        This returns a namedtuple of the form (firstiter, finalizer).\n",
      "    \n",
      "    get_coroutine_origin_tracking_depth()\n",
      "        Check status of origin tracking for coroutine objects in this thread.\n",
      "    \n",
      "    get_int_max_str_digits()\n",
      "        Return the maximum string digits limit for non-binary int<->str conversions.\n",
      "    \n",
      "    getallocatedblocks()\n",
      "        Return the number of memory blocks currently allocated.\n",
      "    \n",
      "    getdefaultencoding()\n",
      "        Return the current default encoding used by the Unicode implementation.\n",
      "    \n",
      "    getfilesystemencodeerrors()\n",
      "        Return the error mode used Unicode to OS filename conversion.\n",
      "    \n",
      "    getfilesystemencoding()\n",
      "        Return the encoding used to convert Unicode filenames to OS filenames.\n",
      "    \n",
      "    getprofile()\n",
      "        Return the profiling function set with sys.setprofile.\n",
      "        \n",
      "        See the profiler chapter in the library manual.\n",
      "    \n",
      "    getrecursionlimit()\n",
      "        Return the current value of the recursion limit.\n",
      "        \n",
      "        The recursion limit is the maximum depth of the Python interpreter\n",
      "        stack.  This limit prevents infinite recursion from causing an overflow\n",
      "        of the C stack and crashing Python.\n",
      "    \n",
      "    getrefcount(object, /)\n",
      "        Return the reference count of object.\n",
      "        \n",
      "        The count returned is generally one higher than you might expect,\n",
      "        because it includes the (temporary) reference as an argument to\n",
      "        getrefcount().\n",
      "    \n",
      "    getsizeof(...)\n",
      "        getsizeof(object [, default]) -> int\n",
      "        \n",
      "        Return the size of object in bytes.\n",
      "    \n",
      "    getswitchinterval()\n",
      "        Return the current thread switch interval; see sys.setswitchinterval().\n",
      "    \n",
      "    gettrace()\n",
      "        Return the global debug tracing function set with sys.settrace.\n",
      "        \n",
      "        See the debugger chapter in the library manual.\n",
      "    \n",
      "    getwindowsversion()\n",
      "        Return info about the running version of Windows as a named tuple.\n",
      "        \n",
      "        The members are named: major, minor, build, platform, service_pack,\n",
      "        service_pack_major, service_pack_minor, suite_mask, product_type and\n",
      "        platform_version. For backward compatibility, only the first 5 items\n",
      "        are available by indexing. All elements are numbers, except\n",
      "        service_pack and platform_type which are strings, and platform_version\n",
      "        which is a 3-tuple. Platform is always 2. Product_type may be 1 for a\n",
      "        workstation, 2 for a domain controller, 3 for a server.\n",
      "        Platform_version is a 3-tuple containing a version number that is\n",
      "        intended for identifying the OS rather than feature detection.\n",
      "    \n",
      "    intern(string, /)\n",
      "        ``Intern'' the given string.\n",
      "        \n",
      "        This enters the string in the (global) table of interned strings whose\n",
      "        purpose is to speed up dictionary lookups. Return the string itself or\n",
      "        the previously interned string object with the same value.\n",
      "    \n",
      "    is_finalizing()\n",
      "        Return True if Python is exiting.\n",
      "    \n",
      "    set_asyncgen_hooks(...)\n",
      "        set_asyncgen_hooks(* [, firstiter] [, finalizer])\n",
      "        \n",
      "        Set a finalizer for async generators objects.\n",
      "    \n",
      "    set_coroutine_origin_tracking_depth(depth)\n",
      "        Enable or disable origin tracking for coroutine objects in this thread.\n",
      "        \n",
      "        Coroutine objects will track 'depth' frames of traceback information\n",
      "        about where they came from, available in their cr_origin attribute.\n",
      "        \n",
      "        Set a depth of 0 to disable.\n",
      "    \n",
      "    set_int_max_str_digits(maxdigits)\n",
      "        Set the maximum string digits limit for non-binary int<->str conversions.\n",
      "    \n",
      "    setprofile(...)\n",
      "        setprofile(function)\n",
      "        \n",
      "        Set the profiling function.  It will be called on each function call\n",
      "        and return.  See the profiler chapter in the library manual.\n",
      "    \n",
      "    setrecursionlimit(limit, /)\n",
      "        Set the maximum depth of the Python interpreter stack to n.\n",
      "        \n",
      "        This limit prevents infinite recursion from causing an overflow of the C\n",
      "        stack and crashing Python.  The highest possible limit is platform-\n",
      "        dependent.\n",
      "    \n",
      "    setswitchinterval(interval, /)\n",
      "        Set the ideal thread switching delay inside the Python interpreter.\n",
      "        \n",
      "        The actual frequency of switching threads can be lower if the\n",
      "        interpreter executes long sequences of uninterruptible code\n",
      "        (this is implementation-specific and workload-dependent).\n",
      "        \n",
      "        The parameter must represent the desired switching delay in seconds\n",
      "        A typical value is 0.005 (5 milliseconds).\n",
      "    \n",
      "    settrace(...)\n",
      "        settrace(function)\n",
      "        \n",
      "        Set the global debug tracing function.  It will be called on each\n",
      "        function call.  See the debugger chapter in the library manual.\n",
      "    \n",
      "    unraisablehook(unraisable, /)\n",
      "        Handle an unraisable exception.\n",
      "        \n",
      "        The unraisable argument has the following attributes:\n",
      "        \n",
      "        * exc_type: Exception type.\n",
      "        * exc_value: Exception value, can be None.\n",
      "        * exc_traceback: Exception traceback, can be None.\n",
      "        * err_msg: Error message, can be None.\n",
      "        * object: Object causing the exception, can be None.\n",
      "\n",
      "DATA\n",
      "    __stderr__ = <_io.TextIOWrapper name='<stderr>' mode='w' encoding='utf...\n",
      "    __stdin__ = <_io.TextIOWrapper name='<stdin>' mode='r' encoding='cp125...\n",
      "    __stdout__ = <_io.TextIOWrapper name='<stdout>' mode='w' encoding='utf...\n",
      "    api_version = 1013\n",
      "    argv = [r'C:\\ProgramData\\anaconda3\\Lib\\site-packages\\ipykernel_launche...\n",
      "    base_exec_prefix = r'C:\\ProgramData\\anaconda3'\n",
      "    base_prefix = r'C:\\ProgramData\\anaconda3'\n",
      "    builtin_module_names = ('_abc', '_ast', '_bisect', '_blake2', '_codecs...\n",
      "    byteorder = 'little'\n",
      "    copyright = 'Copyright (c) 2001-2023 Python Software Foundati...ematis...\n",
      "    displayhook = <ipykernel.displayhook.ZMQShellDisplayHook object>\n",
      "    dllhandle = 140708493262848\n",
      "    dont_write_bytecode = False\n",
      "    exec_prefix = r'C:\\ProgramData\\anaconda3'\n",
      "    executable = r'C:\\ProgramData\\anaconda3\\python.exe'\n",
      "    flags = sys.flags(debug=0, inspect=0, interactive=0, opt...coding=0, s...\n",
      "    float_info = sys.float_info(max=1.7976931348623157e+308, max_...epsilo...\n",
      "    float_repr_style = 'short'\n",
      "    hash_info = sys.hash_info(width=64, modulus=2305843009213693...iphash1...\n",
      "    hexversion = 51054576\n",
      "    implementation = namespace(name='cpython', cache_tag='cpython-311...as...\n",
      "    int_info = sys.int_info(bits_per_digit=30, sizeof_digit=4, ..._str_dig...\n",
      "    last_value = NameError(\"name 'k' is not defined\")\n",
      "    maxsize = 9223372036854775807\n",
      "    maxunicode = 1114111\n",
      "    meta_path = [<_distutils_hack.DistutilsMetaFinder object>, <class '_fr...\n",
      "    modules = {'IPython': <module 'IPython' from 'C:\\\\ProgramData\\\\anacond...\n",
      "    orig_argv = [r'C:/ProgramData/anaconda3\\python.exe', '-m', 'ipykernel_...\n",
      "    path = [r'C:\\Users\\LENOVO\\cds\\01-Python\\01-Python Essentials', r'C:\\Pr...\n",
      "    path_hooks = [<class 'zipimport.zipimporter'>, <function FileFinder.pa...\n",
      "    path_importer_cache = {r'C:\\ProgramData\\anaconda3': FileFinder('C:\\\\Pr...\n",
      "    platform = 'win32'\n",
      "    platlibdir = 'DLLs'\n",
      "    prefix = r'C:\\ProgramData\\anaconda3'\n",
      "    ps1 = 'In : '\n",
      "    ps2 = '...: '\n",
      "    ps3 = 'Out: '\n",
      "    pycache_prefix = None\n",
      "    stderr = <ipykernel.iostream.OutStream object>\n",
      "    stdin = <_io.TextIOWrapper name='<stdin>' mode='r' encoding='cp1252'>\n",
      "    stdlib_module_names = frozenset({'__future__', '_abc', '_aix_support',...\n",
      "    stdout = <ipykernel.iostream.OutStream object>\n",
      "    thread_info = sys.thread_info(name='nt', lock=None, version=None)\n",
      "    version = '3.11.7 | packaged by Anaconda, Inc. | (main, Dec 15 2023, 1...\n",
      "    version_info = sys.version_info(major=3, minor=11, micro=7, releaselev...\n",
      "    warnoptions = []\n",
      "    winver = '3.11'\n",
      "\n",
      "FILE\n",
      "    (built-in)\n",
      "\n",
      "\n"
     ]
    }
   ],
   "source": [
    "help(sys)"
   ]
  },
  {
   "cell_type": "code",
   "execution_count": null,
   "id": "2c1d5b41-2934-4334-91cd-e1f992fbb32b",
   "metadata": {},
   "outputs": [],
   "source": []
  },
  {
   "cell_type": "code",
   "execution_count": null,
   "id": "811d9a01-3ace-4fee-91d7-7126c0023822",
   "metadata": {},
   "outputs": [],
   "source": []
  },
  {
   "cell_type": "code",
   "execution_count": null,
   "id": "7f26adf7-72ed-44c0-a3c9-971857a4bf53",
   "metadata": {},
   "outputs": [],
   "source": []
  },
  {
   "cell_type": "markdown",
   "id": "5a9a8cd3",
   "metadata": {
    "id": "5a9a8cd3"
   },
   "source": [
    "## Numeric"
   ]
  },
  {
   "cell_type": "code",
   "execution_count": 87,
   "id": "3217d802",
   "metadata": {
    "executionInfo": {
     "elapsed": 7,
     "status": "ok",
     "timestamp": 1696742969825,
     "user": {
      "displayName": "Rama Chandra Kotturu",
      "userId": "02243285469857073193"
     },
     "user_tz": -330
    },
    "id": "3217d802"
   },
   "outputs": [],
   "source": [
    "import sys"
   ]
  },
  {
   "cell_type": "code",
   "execution_count": 88,
   "id": "47df1128-dd13-42b0-80ef-7c56d1ad7fa0",
   "metadata": {
    "colab": {
     "base_uri": "https://localhost:8080/"
    },
    "executionInfo": {
     "elapsed": 6,
     "status": "ok",
     "timestamp": 1696742969825,
     "user": {
      "displayName": "Rama Chandra Kotturu",
      "userId": "02243285469857073193"
     },
     "user_tz": -330
    },
    "id": "2fa04823",
    "outputId": "f993dd81-c7af-4ede-db2b-00cf212e2473",
    "scrolled": true
   },
   "outputs": [
    {
     "name": "stdout",
     "output_type": "stream",
     "text": [
      "92.78\n",
      "<class 'float'>\n",
      "memory size in bytes 24\n"
     ]
    }
   ],
   "source": [
    "val2 = 92.78 # Float data type\n",
    "print(val2)\n",
    "print(type(val2)) # type of object\n",
    "print(\"memory size in bytes\",sys.getsizeof(val2)) # size of float object in bytes"
   ]
  },
  {
   "cell_type": "code",
   "execution_count": 89,
   "id": "e3f0f23b-d855-49bf-b5de-1f8ee87978d7",
   "metadata": {},
   "outputs": [
    {
     "data": {
      "text/plain": [
       "False"
      ]
     },
     "execution_count": 89,
     "metadata": {},
     "output_type": "execute_result"
    }
   ],
   "source": [
    "isinstance(val2,int)"
   ]
  },
  {
   "cell_type": "code",
   "execution_count": null,
   "id": "489fc03c-e1e9-440a-93b0-487c3645ce06",
   "metadata": {},
   "outputs": [],
   "source": []
  },
  {
   "cell_type": "code",
   "execution_count": 90,
   "id": "a55097f2-ac6e-4e10-a9f3-249f26663ba5",
   "metadata": {
    "colab": {
     "base_uri": "https://localhost:8080/"
    },
    "executionInfo": {
     "elapsed": 6,
     "status": "ok",
     "timestamp": 1696742969825,
     "user": {
      "displayName": "Rama Chandra Kotturu",
      "userId": "02243285469857073193"
     },
     "user_tz": -330
    },
    "id": "2fa04823",
    "outputId": "f993dd81-c7af-4ede-db2b-00cf212e2473"
   },
   "outputs": [
    {
     "name": "stdout",
     "output_type": "stream",
     "text": [
      "92.78  is float? True\n"
     ]
    }
   ],
   "source": [
    "print(val2, \" is float?\", isinstance(val2, float)) # Val2 is an instance of float"
   ]
  },
  {
   "cell_type": "code",
   "execution_count": null,
   "id": "7219776f-c565-42d3-99c1-dc62f2306e33",
   "metadata": {},
   "outputs": [],
   "source": []
  },
  {
   "cell_type": "code",
   "execution_count": null,
   "id": "cbd66276-ac37-4566-95d1-ba10f4de426b",
   "metadata": {},
   "outputs": [],
   "source": []
  },
  {
   "cell_type": "code",
   "execution_count": 91,
   "id": "25e285ba-c67a-434c-a4c7-8a9f04106e14",
   "metadata": {
    "id": "61eda00f"
   },
   "outputs": [
    {
     "name": "stdout",
     "output_type": "stream",
     "text": [
      "(25+10j)\n",
      "<class 'complex'>\n"
     ]
    }
   ],
   "source": [
    "val3 = 25 + 10j # Complex data type\n",
    "print(val3)\n",
    "print(type(val3)) # type of object"
   ]
  },
  {
   "cell_type": "code",
   "execution_count": 92,
   "id": "9ac73a0e-a64e-4e62-b6d4-d80e483d55f5",
   "metadata": {
    "id": "61eda00f"
   },
   "outputs": [
    {
     "name": "stdout",
     "output_type": "stream",
     "text": [
      "32\n",
      "(25+10j)  is complex? True\n"
     ]
    }
   ],
   "source": [
    "print(sys.getsizeof(val3)) # size of float object in bytes\n",
    "print(val3, \" is complex?\", isinstance(val3, complex)) # val3 is an instance of complex"
   ]
  },
  {
   "cell_type": "code",
   "execution_count": 93,
   "id": "3e4b7652-cf33-4584-ab23-9a4797f88b65",
   "metadata": {},
   "outputs": [],
   "source": [
    "# Dtypes\n",
    "# int , float, string "
   ]
  },
  {
   "cell_type": "markdown",
   "id": "d7c74ac7",
   "metadata": {
    "id": "d7c74ac7"
   },
   "source": [
    "## Boolean"
   ]
  },
  {
   "cell_type": "markdown",
   "id": "807bb3c7",
   "metadata": {
    "id": "807bb3c7"
   },
   "source": [
    "* Boolean data type can have only two possible values true or false."
   ]
  },
  {
   "cell_type": "code",
   "execution_count": 127,
   "id": "04e19703-9530-4d14-89b9-67b17cda82bb",
   "metadata": {},
   "outputs": [
    {
     "data": {
      "text/plain": [
       "True"
      ]
     },
     "execution_count": 127,
     "metadata": {},
     "output_type": "execute_result"
    }
   ],
   "source": [
    "# >> True , False"
   ]
  },
  {
   "cell_type": "code",
   "execution_count": 135,
   "id": "29640dc8-af83-4ac8-ba6b-ae10103e97f6",
   "metadata": {},
   "outputs": [],
   "source": [
    "# =  and ==  ??? difference between ??\n",
    "# = assgnment operator , we are assigning or storing a value inside the variable\n",
    "#== is comparision operator , it simply compares the two values or variables"
   ]
  },
  {
   "cell_type": "code",
   "execution_count": 91,
   "id": "8c2e1882-d55e-4a50-9ec8-635169286d28",
   "metadata": {},
   "outputs": [
    {
     "data": {
      "text/plain": [
       "2"
      ]
     },
     "execution_count": 91,
     "metadata": {},
     "output_type": "execute_result"
    }
   ],
   "source": [
    "True + True + False"
   ]
  },
  {
   "cell_type": "code",
   "execution_count": 92,
   "id": "375e445b-b9d3-4377-82b5-cabadf6f0d9a",
   "metadata": {},
   "outputs": [
    {
     "data": {
      "text/plain": [
       "0"
      ]
     },
     "execution_count": 92,
     "metadata": {},
     "output_type": "execute_result"
    }
   ],
   "source": [
    "False + False"
   ]
  },
  {
   "cell_type": "code",
   "execution_count": 89,
   "id": "877308ff-3dba-4ade-801f-72e32ad35ab0",
   "metadata": {},
   "outputs": [
    {
     "data": {
      "text/plain": [
       "False"
      ]
     },
     "execution_count": 89,
     "metadata": {},
     "output_type": "execute_result"
    }
   ],
   "source": [
    "66 == 77"
   ]
  },
  {
   "cell_type": "code",
   "execution_count": 93,
   "id": "b5110cad-d0e2-4de6-9dd8-a5ccc1688351",
   "metadata": {},
   "outputs": [
    {
     "data": {
      "text/plain": [
       "True"
      ]
     },
     "execution_count": 93,
     "metadata": {},
     "output_type": "execute_result"
    }
   ],
   "source": [
    "0  == False"
   ]
  },
  {
   "cell_type": "code",
   "execution_count": 94,
   "id": "8172db72-83f1-4202-a390-2b9418399c37",
   "metadata": {},
   "outputs": [
    {
     "data": {
      "text/plain": [
       "True"
      ]
     },
     "execution_count": 94,
     "metadata": {},
     "output_type": "execute_result"
    }
   ],
   "source": [
    "1 == True"
   ]
  },
  {
   "cell_type": "code",
   "execution_count": 138,
   "id": "1e855748-550c-4160-8096-241e8257ded6",
   "metadata": {},
   "outputs": [
    {
     "data": {
      "text/plain": [
       "2"
      ]
     },
     "execution_count": 138,
     "metadata": {},
     "output_type": "execute_result"
    }
   ],
   "source": [
    "True + True"
   ]
  },
  {
   "cell_type": "code",
   "execution_count": 139,
   "id": "f5f6d9a8-983e-4c01-9002-663e88add638",
   "metadata": {},
   "outputs": [
    {
     "data": {
      "text/plain": [
       "1"
      ]
     },
     "execution_count": 139,
     "metadata": {},
     "output_type": "execute_result"
    }
   ],
   "source": [
    "True + False"
   ]
  },
  {
   "cell_type": "code",
   "execution_count": null,
   "id": "9aeec874-8a97-43aa-b0e4-150632cc8ede",
   "metadata": {},
   "outputs": [],
   "source": []
  },
  {
   "cell_type": "code",
   "execution_count": 95,
   "id": "052cf431",
   "metadata": {
    "id": "052cf431"
   },
   "outputs": [],
   "source": [
    "bool1=True"
   ]
  },
  {
   "cell_type": "code",
   "execution_count": 96,
   "id": "9cb97c89",
   "metadata": {
    "id": "9cb97c89"
   },
   "outputs": [],
   "source": [
    "bool2=False"
   ]
  },
  {
   "cell_type": "code",
   "execution_count": 97,
   "id": "0f453174",
   "metadata": {
    "id": "0f453174"
   },
   "outputs": [
    {
     "data": {
      "text/plain": [
       "bool"
      ]
     },
     "execution_count": 97,
     "metadata": {},
     "output_type": "execute_result"
    }
   ],
   "source": [
    "type(bool1)"
   ]
  },
  {
   "cell_type": "code",
   "execution_count": 98,
   "id": "a35fd3f2-8a2d-46d3-b75c-691deff906b7",
   "metadata": {},
   "outputs": [
    {
     "data": {
      "text/plain": [
       "True"
      ]
     },
     "execution_count": 98,
     "metadata": {},
     "output_type": "execute_result"
    }
   ],
   "source": [
    "isinstance(True, bool)"
   ]
  },
  {
   "cell_type": "code",
   "execution_count": 99,
   "id": "7299d12f-11b9-4030-96b8-af971d1a71fd",
   "metadata": {},
   "outputs": [
    {
     "data": {
      "text/plain": [
       "True"
      ]
     },
     "execution_count": 99,
     "metadata": {},
     "output_type": "execute_result"
    }
   ],
   "source": [
    "isinstance(False, bool)"
   ]
  },
  {
   "cell_type": "code",
   "execution_count": null,
   "id": "bb3d75bf-67c2-4ba8-8ca8-c163cd57058c",
   "metadata": {},
   "outputs": [],
   "source": []
  },
  {
   "cell_type": "code",
   "execution_count": null,
   "id": "86480dfb-cba7-4e10-9cbf-51d270cd4cde",
   "metadata": {},
   "outputs": [],
   "source": []
  },
  {
   "cell_type": "code",
   "execution_count": 140,
   "id": "6211346a",
   "metadata": {
    "id": "6211346a"
   },
   "outputs": [
    {
     "data": {
      "text/plain": [
       "True"
      ]
     },
     "execution_count": 140,
     "metadata": {},
     "output_type": "execute_result"
    }
   ],
   "source": [
    "isinstance(bool1, bool)"
   ]
  },
  {
   "cell_type": "code",
   "execution_count": null,
   "id": "e7e66e27-c304-4e06-9e04-56b4281392f5",
   "metadata": {},
   "outputs": [],
   "source": []
  },
  {
   "cell_type": "code",
   "execution_count": 106,
   "id": "476be0d9-5c51-4c99-886e-9aae8cdf9fbf",
   "metadata": {},
   "outputs": [
    {
     "data": {
      "text/plain": [
       "True"
      ]
     },
     "execution_count": 106,
     "metadata": {},
     "output_type": "execute_result"
    }
   ],
   "source": [
    "bool(\"false\")"
   ]
  },
  {
   "cell_type": "code",
   "execution_count": null,
   "id": "9335f4dd-c09a-44fd-bfbf-2eb0cdf655a3",
   "metadata": {},
   "outputs": [],
   "source": []
  },
  {
   "cell_type": "code",
   "execution_count": 21,
   "id": "8c600c49",
   "metadata": {
    "id": "8c600c49"
   },
   "outputs": [
    {
     "data": {
      "text/plain": [
       "False"
      ]
     },
     "execution_count": 21,
     "metadata": {},
     "output_type": "execute_result"
    }
   ],
   "source": [
    "bool(0)"
   ]
  },
  {
   "cell_type": "code",
   "execution_count": 22,
   "id": "5b17409e",
   "metadata": {
    "id": "5b17409e"
   },
   "outputs": [
    {
     "data": {
      "text/plain": [
       "True"
      ]
     },
     "execution_count": 22,
     "metadata": {},
     "output_type": "execute_result"
    }
   ],
   "source": [
    "bool(-98) # Anything apart from 0 everything is True"
   ]
  },
  {
   "cell_type": "markdown",
   "id": "b40a9db7",
   "metadata": {
    "id": "b40a9db7"
   },
   "source": [
    "## String"
   ]
  },
  {
   "cell_type": "markdown",
   "id": "6580adac",
   "metadata": {
    "id": "6580adac"
   },
   "source": [
    "###  String creation"
   ]
  },
  {
   "cell_type": "code",
   "execution_count": 107,
   "id": "cc1f5351-9e7f-4ea4-a75e-9ff452828326",
   "metadata": {},
   "outputs": [],
   "source": [
    "str2 = 'hello'"
   ]
  },
  {
   "cell_type": "code",
   "execution_count": 108,
   "id": "a4bd6b3f-ad57-4677-96c2-23d1b768c9a1",
   "metadata": {},
   "outputs": [
    {
     "data": {
      "text/plain": [
       "'hello'"
      ]
     },
     "execution_count": 108,
     "metadata": {},
     "output_type": "execute_result"
    }
   ],
   "source": [
    "str2"
   ]
  },
  {
   "cell_type": "code",
   "execution_count": 109,
   "id": "54346673",
   "metadata": {
    "id": "54346673"
   },
   "outputs": [
    {
     "name": "stdout",
     "output_type": "stream",
     "text": [
      "HELLO PYTHON\n"
     ]
    }
   ],
   "source": [
    "str1 = \"HELLO PYTHON\"\n",
    "print(str1)"
   ]
  },
  {
   "cell_type": "code",
   "execution_count": 110,
   "id": "34012e79",
   "metadata": {
    "id": "34012e79"
   },
   "outputs": [
    {
     "name": "stdout",
     "output_type": "stream",
     "text": [
      "Hello World\n"
     ]
    }
   ],
   "source": [
    "mystr = 'Hello World' # Define string using single quotes\n",
    "print(mystr)"
   ]
  },
  {
   "cell_type": "markdown",
   "id": "21e9ae35",
   "metadata": {
    "id": "21e9ae35"
   },
   "source": [
    "### String indexing"
   ]
  },
  {
   "cell_type": "code",
   "execution_count": 4,
   "id": "cd4091f8",
   "metadata": {
    "id": "cd4091f8",
    "scrolled": true
   },
   "outputs": [],
   "source": [
    "str1='HELLO PYTHON'"
   ]
  },
  {
   "cell_type": "code",
   "execution_count": 114,
   "id": "bb12a213",
   "metadata": {
    "id": "bb12a213"
   },
   "outputs": [
    {
     "data": {
      "text/plain": [
       "'N'"
      ]
     },
     "execution_count": 114,
     "metadata": {},
     "output_type": "execute_result"
    }
   ],
   "source": [
    "str1[-1] # First character in string \"str1\""
   ]
  },
  {
   "cell_type": "code",
   "execution_count": 7,
   "id": "b73ab52f-e431-442d-8263-0e597f3e66a8",
   "metadata": {},
   "outputs": [
    {
     "data": {
      "text/plain": [
       "'L'"
      ]
     },
     "execution_count": 7,
     "metadata": {},
     "output_type": "execute_result"
    }
   ],
   "source": [
    "str1[3]"
   ]
  },
  {
   "cell_type": "code",
   "execution_count": 8,
   "id": "226a3acf-034a-4b74-b2ee-3b5bafc12775",
   "metadata": {},
   "outputs": [
    {
     "data": {
      "text/plain": [
       "'T'"
      ]
     },
     "execution_count": 8,
     "metadata": {},
     "output_type": "execute_result"
    }
   ],
   "source": [
    "str1[-4]"
   ]
  },
  {
   "cell_type": "code",
   "execution_count": 6,
   "id": "dead0eea",
   "metadata": {
    "id": "dead0eea"
   },
   "outputs": [
    {
     "data": {
      "text/plain": [
       "' '"
      ]
     },
     "execution_count": 6,
     "metadata": {},
     "output_type": "execute_result"
    }
   ],
   "source": [
    "str1[-7]"
   ]
  },
  {
   "cell_type": "code",
   "execution_count": 9,
   "id": "f4bc7dfc",
   "metadata": {
    "id": "f4bc7dfc"
   },
   "outputs": [
    {
     "data": {
      "text/plain": [
       "12"
      ]
     },
     "execution_count": 9,
     "metadata": {},
     "output_type": "execute_result"
    }
   ],
   "source": [
    "len(str1) # Number of elements in given string."
   ]
  },
  {
   "cell_type": "code",
   "execution_count": 10,
   "id": "59bb7c87-0f26-4fe2-b1b0-d492b8d82809",
   "metadata": {},
   "outputs": [
    {
     "data": {
      "text/plain": [
       "'HELLO PYTHON'"
      ]
     },
     "execution_count": 10,
     "metadata": {},
     "output_type": "execute_result"
    }
   ],
   "source": [
    "str1"
   ]
  },
  {
   "cell_type": "code",
   "execution_count": 12,
   "id": "e0b2de56-b163-4722-8585-9c5f005848a4",
   "metadata": {},
   "outputs": [
    {
     "ename": "IndexError",
     "evalue": "string index out of range",
     "output_type": "error",
     "traceback": [
      "\u001b[1;31m---------------------------------------------------------------------------\u001b[0m",
      "\u001b[1;31mIndexError\u001b[0m                                Traceback (most recent call last)",
      "Cell \u001b[1;32mIn[12], line 1\u001b[0m\n\u001b[1;32m----> 1\u001b[0m str1[\u001b[38;5;28mlen\u001b[39m(str1)]\n",
      "\u001b[1;31mIndexError\u001b[0m: string index out of range"
     ]
    }
   ],
   "source": [
    "str1[len(str1)]"
   ]
  },
  {
   "cell_type": "code",
   "execution_count": 13,
   "id": "2e238e59",
   "metadata": {
    "id": "2e238e59"
   },
   "outputs": [
    {
     "data": {
      "text/plain": [
       "'N'"
      ]
     },
     "execution_count": 13,
     "metadata": {},
     "output_type": "execute_result"
    }
   ],
   "source": [
    "str1[len(str1)-1] # Last character in string using len functio"
   ]
  },
  {
   "cell_type": "code",
   "execution_count": null,
   "id": "686c1440",
   "metadata": {
    "id": "686c1440"
   },
   "outputs": [],
   "source": [
    "str1[-1] # Last character in string\n"
   ]
  },
  {
   "cell_type": "code",
   "execution_count": 14,
   "id": "ae641b47",
   "metadata": {
    "id": "ae641b47"
   },
   "outputs": [
    {
     "data": {
      "text/plain": [
       "'N'"
      ]
     },
     "execution_count": 14,
     "metadata": {},
     "output_type": "execute_result"
    }
   ],
   "source": [
    "str1[11]"
   ]
  },
  {
   "cell_type": "code",
   "execution_count": 15,
   "id": "0c90f89d-99b7-433d-858c-59b6898ab4de",
   "metadata": {},
   "outputs": [
    {
     "data": {
      "text/plain": [
       "'HELLO PYTHON'"
      ]
     },
     "execution_count": 15,
     "metadata": {},
     "output_type": "execute_result"
    }
   ],
   "source": [
    "str1"
   ]
  },
  {
   "cell_type": "code",
   "execution_count": 16,
   "id": "123531e7",
   "metadata": {
    "id": "123531e7"
   },
   "outputs": [
    {
     "data": {
      "text/plain": [
       "'P'"
      ]
     },
     "execution_count": 16,
     "metadata": {},
     "output_type": "execute_result"
    }
   ],
   "source": [
    "str1[6] #Fetch 7th element of the string"
   ]
  },
  {
   "cell_type": "code",
   "execution_count": 17,
   "id": "47f9ed1c",
   "metadata": {
    "id": "47f9ed1c"
   },
   "outputs": [
    {
     "data": {
      "text/plain": [
       "' '"
      ]
     },
     "execution_count": 17,
     "metadata": {},
     "output_type": "execute_result"
    }
   ],
   "source": [
    "str1[5]"
   ]
  },
  {
   "cell_type": "markdown",
   "id": "617e14ce",
   "metadata": {
    "id": "617e14ce"
   },
   "source": [
    "### String Slicing"
   ]
  },
  {
   "cell_type": "code",
   "execution_count": 6,
   "id": "03b4199e",
   "metadata": {
    "id": "03b4199e"
   },
   "outputs": [],
   "source": [
    "str1='HELLO PYTHON'"
   ]
  },
  {
   "cell_type": "code",
   "execution_count": 121,
   "id": "6686d743-7a96-4f45-86ea-e73bd983c29d",
   "metadata": {},
   "outputs": [
    {
     "data": {
      "text/plain": [
       "'HELLO P'"
      ]
     },
     "execution_count": 121,
     "metadata": {},
     "output_type": "execute_result"
    }
   ],
   "source": [
    "str1[:7]   #start:stop"
   ]
  },
  {
   "cell_type": "code",
   "execution_count": null,
   "id": "08020096-89c8-4c9a-a9f8-6b897b5426da",
   "metadata": {},
   "outputs": [],
   "source": []
  },
  {
   "cell_type": "code",
   "execution_count": 127,
   "id": "74a85bce-863a-426e-b298-3c5afacabea4",
   "metadata": {},
   "outputs": [
    {
     "data": {
      "text/plain": [
       "'HLPH'"
      ]
     },
     "execution_count": 127,
     "metadata": {},
     "output_type": "execute_result"
    }
   ],
   "source": [
    "str1[::3]"
   ]
  },
  {
   "cell_type": "code",
   "execution_count": 5,
   "id": "921058df-8bcc-4cc7-a3d6-0c39968a3f02",
   "metadata": {},
   "outputs": [
    {
     "data": {
      "text/plain": [
       "'TYP O'"
      ]
     },
     "execution_count": 5,
     "metadata": {},
     "output_type": "execute_result"
    }
   ],
   "source": [
    "str1[-4:-9:-1]"
   ]
  },
  {
   "cell_type": "code",
   "execution_count": null,
   "id": "803eef0b",
   "metadata": {
    "id": "803eef0b"
   },
   "outputs": [],
   "source": [
    "str1"
   ]
  },
  {
   "cell_type": "code",
   "execution_count": 20,
   "id": "c5af909d-3eb3-4dec-b750-10f53082289e",
   "metadata": {},
   "outputs": [
    {
     "data": {
      "text/plain": [
       "'HELLO'"
      ]
     },
     "execution_count": 20,
     "metadata": {},
     "output_type": "execute_result"
    }
   ],
   "source": [
    "str1[0:5]"
   ]
  },
  {
   "cell_type": "code",
   "execution_count": null,
   "id": "51e851cb",
   "metadata": {
    "id": "51e851cb"
   },
   "outputs": [],
   "source": [
    "str1[0:5] ## start:end"
   ]
  },
  {
   "cell_type": "code",
   "execution_count": null,
   "id": "8146ce76",
   "metadata": {
    "id": "8146ce76"
   },
   "outputs": [],
   "source": [
    "str1"
   ]
  },
  {
   "cell_type": "code",
   "execution_count": 24,
   "id": "6ab49966-d881-4832-8bb7-2899c7611e8e",
   "metadata": {},
   "outputs": [
    {
     "data": {
      "text/plain": [
       "'HELLO'"
      ]
     },
     "execution_count": 24,
     "metadata": {},
     "output_type": "execute_result"
    }
   ],
   "source": [
    "str1[:5]"
   ]
  },
  {
   "cell_type": "code",
   "execution_count": null,
   "id": "18439a63-82a8-4f7a-a329-27586a249897",
   "metadata": {},
   "outputs": [],
   "source": []
  },
  {
   "cell_type": "code",
   "execution_count": 22,
   "id": "8f88c396-7e7a-463c-bacf-149acee2f24e",
   "metadata": {},
   "outputs": [
    {
     "data": {
      "text/plain": [
       "'PYTHON'"
      ]
     },
     "execution_count": 22,
     "metadata": {},
     "output_type": "execute_result"
    }
   ],
   "source": [
    "str1[6:12]"
   ]
  },
  {
   "cell_type": "code",
   "execution_count": 23,
   "id": "000c9c59-fd84-4c7b-a8b4-9fae1818d9ce",
   "metadata": {},
   "outputs": [
    {
     "data": {
      "text/plain": [
       "'PYTHON'"
      ]
     },
     "execution_count": 23,
     "metadata": {},
     "output_type": "execute_result"
    }
   ],
   "source": [
    "str1[6:]"
   ]
  },
  {
   "cell_type": "code",
   "execution_count": 26,
   "id": "845c6ea2-93b6-4226-8157-c1e8faedeee6",
   "metadata": {},
   "outputs": [
    {
     "data": {
      "text/plain": [
       "'HELLO PYTHON'"
      ]
     },
     "execution_count": 26,
     "metadata": {},
     "output_type": "execute_result"
    }
   ],
   "source": [
    "str1"
   ]
  },
  {
   "cell_type": "code",
   "execution_count": 30,
   "id": "8c268a5e-b571-43c9-bf86-f48bd013615e",
   "metadata": {},
   "outputs": [
    {
     "data": {
      "text/plain": [
       "'HLPH'"
      ]
     },
     "execution_count": 30,
     "metadata": {},
     "output_type": "execute_result"
    }
   ],
   "source": [
    "str1[0:12:3]"
   ]
  },
  {
   "cell_type": "code",
   "execution_count": null,
   "id": "9056c0c7-133a-4921-a2ff-06165e6d7fb8",
   "metadata": {},
   "outputs": [],
   "source": []
  },
  {
   "cell_type": "code",
   "execution_count": null,
   "id": "9aab6284-cec6-4608-8751-356b480546a1",
   "metadata": {},
   "outputs": [],
   "source": []
  },
  {
   "cell_type": "code",
   "execution_count": null,
   "id": "7498fc14-9436-4925-b4a9-2dbfb29c8178",
   "metadata": {},
   "outputs": [],
   "source": []
  },
  {
   "cell_type": "code",
   "execution_count": 128,
   "id": "0882fb00",
   "metadata": {
    "executionInfo": {
     "elapsed": 2,
     "status": "ok",
     "timestamp": 1696745490669,
     "user": {
      "displayName": "Rama Chandra Kotturu",
      "userId": "02243285469857073193"
     },
     "user_tz": -330
    },
    "id": "0882fb00"
   },
   "outputs": [],
   "source": [
    "str2='Data is new fuel'\n",
    "# Task:-Extract new and data from above string"
   ]
  },
  {
   "cell_type": "code",
   "execution_count": 129,
   "id": "e481719b-823b-4dd0-bd72-ffda011797ac",
   "metadata": {},
   "outputs": [
    {
     "data": {
      "text/plain": [
       "'leuf wen si ataD'"
      ]
     },
     "execution_count": 129,
     "metadata": {},
     "output_type": "execute_result"
    }
   ],
   "source": [
    "str2[::-1]"
   ]
  },
  {
   "cell_type": "code",
   "execution_count": 130,
   "id": "ae48c68a-0096-4502-920a-352f337ffe1f",
   "metadata": {},
   "outputs": [
    {
     "data": {
      "text/plain": [
       "'malayalam'"
      ]
     },
     "execution_count": 130,
     "metadata": {},
     "output_type": "execute_result"
    }
   ],
   "source": [
    "k1 = \"malayalam\"\n",
    "k1[::-1]  # palindrome "
   ]
  },
  {
   "cell_type": "code",
   "execution_count": 132,
   "id": "1SzjOqCB6Y8C",
   "metadata": {
    "colab": {
     "base_uri": "https://localhost:8080/",
     "height": 35
    },
    "executionInfo": {
     "elapsed": 546,
     "status": "ok",
     "timestamp": 1696745502543,
     "user": {
      "displayName": "Rama Chandra Kotturu",
      "userId": "02243285469857073193"
     },
     "user_tz": -330
    },
    "id": "1SzjOqCB6Y8C",
    "outputId": "7457c85b-4b2b-466d-b2b4-00229de5e64d"
   },
   "outputs": [
    {
     "data": {
      "text/plain": [
       "'wen'"
      ]
     },
     "execution_count": 132,
     "metadata": {},
     "output_type": "execute_result"
    }
   ],
   "source": [
    "str2[-6:-9:-1]"
   ]
  },
  {
   "cell_type": "code",
   "execution_count": 38,
   "id": "ed2661d2",
   "metadata": {
    "id": "ed2661d2",
    "outputId": "a91a95d2-6843-4417-981b-3dbc5fc4b82c"
   },
   "outputs": [
    {
     "data": {
      "text/plain": [
       "'HELLO PYTHON'"
      ]
     },
     "execution_count": 38,
     "metadata": {},
     "output_type": "execute_result"
    }
   ],
   "source": [
    "str1[:]"
   ]
  },
  {
   "cell_type": "code",
   "execution_count": 39,
   "id": "23b33ead",
   "metadata": {
    "id": "23b33ead",
    "outputId": "6632b0cd-c8ae-4bd2-dd2e-f3493f46d40e"
   },
   "outputs": [
    {
     "data": {
      "text/plain": [
       "'LO PYTHON'"
      ]
     },
     "execution_count": 39,
     "metadata": {},
     "output_type": "execute_result"
    }
   ],
   "source": [
    "str1[3:]"
   ]
  },
  {
   "cell_type": "code",
   "execution_count": 40,
   "id": "d4627050",
   "metadata": {
    "id": "d4627050",
    "outputId": "5c27554e-12c7-4311-9651-0b097abd0119"
   },
   "outputs": [
    {
     "data": {
      "text/plain": [
       "'HELLO '"
      ]
     },
     "execution_count": 40,
     "metadata": {},
     "output_type": "execute_result"
    }
   ],
   "source": [
    "str1[:6]"
   ]
  },
  {
   "cell_type": "code",
   "execution_count": 41,
   "id": "3fe62f83",
   "metadata": {
    "id": "3fe62f83",
    "outputId": "ae0bad63-ac64-4cc0-d7a1-85acc37a68a9"
   },
   "outputs": [
    {
     "data": {
      "text/plain": [
       "'HELLO PYTHON'"
      ]
     },
     "execution_count": 41,
     "metadata": {},
     "output_type": "execute_result"
    }
   ],
   "source": [
    "str1"
   ]
  },
  {
   "cell_type": "code",
   "execution_count": 45,
   "id": "dae41c90",
   "metadata": {
    "id": "dae41c90",
    "outputId": "0ca6b4a9-3f3b-4b83-fa91-6ddbf4ed3866"
   },
   "outputs": [
    {
     "data": {
      "text/plain": [
       "''"
      ]
     },
     "execution_count": 45,
     "metadata": {},
     "output_type": "execute_result"
    }
   ],
   "source": [
    "str1[-6:-10]"
   ]
  },
  {
   "cell_type": "code",
   "execution_count": 46,
   "id": "5b8ffccc",
   "metadata": {
    "id": "5b8ffccc",
    "outputId": "35ec8739-4c94-4b99-cdbf-f6bb28b14f8d"
   },
   "outputs": [
    {
     "data": {
      "text/plain": [
       "'LLO P'"
      ]
     },
     "execution_count": 46,
     "metadata": {},
     "output_type": "execute_result"
    }
   ],
   "source": [
    "str1[-10:-5]"
   ]
  },
  {
   "cell_type": "code",
   "execution_count": 133,
   "id": "d5094f73",
   "metadata": {
    "id": "d5094f73"
   },
   "outputs": [
    {
     "data": {
      "text/plain": [
       "'HELLO PYTHON'"
      ]
     },
     "execution_count": 133,
     "metadata": {},
     "output_type": "execute_result"
    }
   ],
   "source": [
    "str1"
   ]
  },
  {
   "cell_type": "code",
   "execution_count": 139,
   "id": "81f75358-6b6f-422b-a916-3674e550e975",
   "metadata": {},
   "outputs": [
    {
     "data": {
      "text/plain": [
       "'ON'"
      ]
     },
     "execution_count": 139,
     "metadata": {},
     "output_type": "execute_result"
    }
   ],
   "source": [
    "str1[-2:]"
   ]
  },
  {
   "cell_type": "code",
   "execution_count": null,
   "id": "27040e35",
   "metadata": {
    "id": "27040e35",
    "outputId": "c62e63e0-645a-4d0b-b069-f4afdd3b20ee"
   },
   "outputs": [
    {
     "data": {
      "text/plain": [
       "'NHY LE'"
      ]
     },
     "execution_count": 13,
     "metadata": {},
     "output_type": "execute_result"
    }
   ],
   "source": [
    "# str1[start:end:step]\n",
    "\n",
    "str1[::-2]"
   ]
  },
  {
   "cell_type": "markdown",
   "id": "26ea1f22",
   "metadata": {
    "id": "26ea1f22"
   },
   "source": [
    "### Update and Delete string"
   ]
  },
  {
   "cell_type": "markdown",
   "id": "8be8dec6",
   "metadata": {
    "id": "8be8dec6"
   },
   "source": [
    "* Strings are immutable which means elements of a\n",
    "string cannot be changed once the they are assigned with\n",
    "any values\n"
   ]
  },
  {
   "cell_type": "code",
   "execution_count": 7,
   "id": "b48e5be5",
   "metadata": {
    "executionInfo": {
     "elapsed": 384,
     "status": "ok",
     "timestamp": 1696745744581,
     "user": {
      "displayName": "Rama Chandra Kotturu",
      "userId": "02243285469857073193"
     },
     "user_tz": -330
    },
    "id": "b48e5be5"
   },
   "outputs": [],
   "source": [
    "str1='Hello python'"
   ]
  },
  {
   "cell_type": "code",
   "execution_count": 48,
   "id": "67f6fb1a-76de-4fb8-ba17-35e429fdcc1b",
   "metadata": {},
   "outputs": [
    {
     "data": {
      "text/plain": [
       "'HE'"
      ]
     },
     "execution_count": 48,
     "metadata": {},
     "output_type": "execute_result"
    }
   ],
   "source": [
    "str1[0:2]"
   ]
  },
  {
   "cell_type": "code",
   "execution_count": 50,
   "id": "67aec6de",
   "metadata": {
    "colab": {
     "base_uri": "https://localhost:8080/",
     "height": 211
    },
    "executionInfo": {
     "elapsed": 9,
     "status": "error",
     "timestamp": 1696745745237,
     "user": {
      "displayName": "Rama Chandra Kotturu",
      "userId": "02243285469857073193"
     },
     "user_tz": -330
    },
    "id": "67aec6de",
    "outputId": "c129477c-3761-4bc1-b99e-9c2ece07b679"
   },
   "outputs": [
    {
     "ename": "TypeError",
     "evalue": "'str' object does not support item assignment",
     "output_type": "error",
     "traceback": [
      "\u001b[1;31m---------------------------------------------------------------------------\u001b[0m",
      "\u001b[1;31mTypeError\u001b[0m                                 Traceback (most recent call last)",
      "Cell \u001b[1;32mIn[50], line 1\u001b[0m\n\u001b[1;32m----> 1\u001b[0m str1[\u001b[38;5;241m0\u001b[39m:\u001b[38;5;241m2\u001b[39m]\u001b[38;5;241m=\u001b[39m\u001b[38;5;124m'\u001b[39m\u001b[38;5;124mHI\u001b[39m\u001b[38;5;124m'\u001b[39m\n",
      "\u001b[1;31mTypeError\u001b[0m: 'str' object does not support item assignment"
     ]
    }
   ],
   "source": [
    "str1[0:2]='HI'"
   ]
  },
  {
   "cell_type": "code",
   "execution_count": 51,
   "id": "23c958e1",
   "metadata": {
    "id": "23c958e1"
   },
   "outputs": [],
   "source": [
    "str3=str1.replace('HE','HI')\n",
    "# string.replace('character to replace','by what value\n",
    "#the character should be replaced')"
   ]
  },
  {
   "cell_type": "code",
   "execution_count": 54,
   "id": "b5d233be",
   "metadata": {
    "id": "b5d233be",
    "outputId": "fecbf57e-d5fb-4ebf-cf2d-0ed203966881"
   },
   "outputs": [
    {
     "data": {
      "text/plain": [
       "'HELLO PYTHON'"
      ]
     },
     "execution_count": 54,
     "metadata": {},
     "output_type": "execute_result"
    }
   ],
   "source": [
    "str1"
   ]
  },
  {
   "cell_type": "code",
   "execution_count": 53,
   "id": "10f2206b",
   "metadata": {
    "id": "10f2206b",
    "outputId": "0bb006a3-51bb-4725-b6b7-edf1c4804e45"
   },
   "outputs": [
    {
     "data": {
      "text/plain": [
       "'HILLO PYTHON'"
      ]
     },
     "execution_count": 53,
     "metadata": {},
     "output_type": "execute_result"
    }
   ],
   "source": [
    "str3"
   ]
  },
  {
   "cell_type": "code",
   "execution_count": 55,
   "id": "14da5e50",
   "metadata": {
    "id": "14da5e50",
    "scrolled": true
   },
   "outputs": [],
   "source": [
    "del str1 # Delete a string\n",
    "\n"
   ]
  },
  {
   "cell_type": "code",
   "execution_count": 56,
   "id": "1500df89",
   "metadata": {
    "id": "1500df89",
    "outputId": "3c7d0308-417d-4f08-c489-c50db8416f5a"
   },
   "outputs": [
    {
     "ename": "NameError",
     "evalue": "name 'str1' is not defined",
     "output_type": "error",
     "traceback": [
      "\u001b[1;31m---------------------------------------------------------------------------\u001b[0m",
      "\u001b[1;31mNameError\u001b[0m                                 Traceback (most recent call last)",
      "Cell \u001b[1;32mIn[56], line 1\u001b[0m\n\u001b[1;32m----> 1\u001b[0m str1\n",
      "\u001b[1;31mNameError\u001b[0m: name 'str1' is not defined"
     ]
    }
   ],
   "source": [
    "str1"
   ]
  },
  {
   "cell_type": "markdown",
   "id": "b5b59f30",
   "metadata": {
    "id": "b5b59f30"
   },
   "source": [
    "### String concatenation\n"
   ]
  },
  {
   "cell_type": "code",
   "execution_count": 57,
   "id": "e728facb-8b0b-4ecf-b4c3-8875b02f6573",
   "metadata": {},
   "outputs": [],
   "source": [
    "a1 = \"akash\"\n",
    "a2 = \"kumar\""
   ]
  },
  {
   "cell_type": "code",
   "execution_count": 62,
   "id": "5607429b-d47a-4ad0-baec-c42bcc567714",
   "metadata": {},
   "outputs": [
    {
     "data": {
      "text/plain": [
       "'akash****kumar'"
      ]
     },
     "execution_count": 62,
     "metadata": {},
     "output_type": "execute_result"
    }
   ],
   "source": [
    "a1 + \"****\" +a2"
   ]
  },
  {
   "cell_type": "code",
   "execution_count": null,
   "id": "8fc4b66f-6b2d-4c8f-84cd-f564d1e7e475",
   "metadata": {},
   "outputs": [],
   "source": []
  },
  {
   "cell_type": "code",
   "execution_count": 63,
   "id": "4c2cc25b",
   "metadata": {
    "id": "4c2cc25b"
   },
   "outputs": [
    {
     "data": {
      "text/plain": [
       "'DataScience'"
      ]
     },
     "execution_count": 63,
     "metadata": {},
     "output_type": "execute_result"
    }
   ],
   "source": [
    "#  String concatenation\n",
    "s1 = \"Data\"\n",
    "s2 = \"Science\"\n",
    "s3=s1 + s2\n",
    "s3"
   ]
  },
  {
   "cell_type": "code",
   "execution_count": null,
   "id": "8b12292c",
   "metadata": {
    "id": "8b12292c",
    "outputId": "73dee9a1-3707-4d46-c63f-dbfb92b5966c"
   },
   "outputs": [
    {
     "data": {
      "text/plain": [
       "5"
      ]
     },
     "execution_count": 12,
     "metadata": {},
     "output_type": "execute_result"
    }
   ],
   "source": [
    "2+3"
   ]
  },
  {
   "cell_type": "code",
   "execution_count": 64,
   "id": "668e22ee",
   "metadata": {
    "colab": {
     "base_uri": "https://localhost:8080/"
    },
    "executionInfo": {
     "elapsed": 417,
     "status": "ok",
     "timestamp": 1652333748044,
     "user": {
      "displayName": "Rohan Ravindra Sohani",
      "userId": "06993368347103045844"
     },
     "user_tz": -330
    },
    "id": "668e22ee",
    "outputId": "55d48f26-217b-4b97-ff00-d42ac2650078",
    "scrolled": true
   },
   "outputs": [
    {
     "data": {
      "text/plain": [
       "'datascience'"
      ]
     },
     "execution_count": 64,
     "metadata": {},
     "output_type": "execute_result"
    }
   ],
   "source": [
    "'data'+'science'"
   ]
  },
  {
   "cell_type": "code",
   "execution_count": 65,
   "id": "b9a1bc0e",
   "metadata": {
    "id": "b9a1bc0e"
   },
   "outputs": [],
   "source": [
    "#  String concatenation\n",
    "s1 = \"Data\"\n",
    "s2 = \"Science\"\n",
    "s3 = s1 +\" \"+ s2"
   ]
  },
  {
   "cell_type": "code",
   "execution_count": null,
   "id": "d8f423bd",
   "metadata": {
    "id": "d8f423bd",
    "outputId": "e95613ce-7eba-4ea3-be39-6207fb018878"
   },
   "outputs": [
    {
     "name": "stdout",
     "output_type": "stream",
     "text": [
      "Data Science\n"
     ]
    }
   ],
   "source": [
    "print(s3)"
   ]
  },
  {
   "cell_type": "markdown",
   "id": "7b1f3379",
   "metadata": {
    "id": "7b1f3379"
   },
   "source": [
    "### String Membership"
   ]
  },
  {
   "cell_type": "code",
   "execution_count": 66,
   "id": "86d2b79a",
   "metadata": {
    "id": "86d2b79a"
   },
   "outputs": [],
   "source": [
    "# String membership\n",
    "mystr1 = \"Hello Everyone\"\n"
   ]
  },
  {
   "cell_type": "code",
   "execution_count": 67,
   "id": "db3c1fd7-6a71-4a79-bbd6-db5c7579ddd9",
   "metadata": {},
   "outputs": [
    {
     "data": {
      "text/plain": [
       "'Hello Everyone'"
      ]
     },
     "execution_count": 67,
     "metadata": {},
     "output_type": "execute_result"
    }
   ],
   "source": [
    "mystr1"
   ]
  },
  {
   "cell_type": "code",
   "execution_count": 71,
   "id": "073089bb",
   "metadata": {
    "id": "073089bb",
    "outputId": "9cf537ce-26f1-4ee7-c863-bc38afd3a1f5"
   },
   "outputs": [
    {
     "data": {
      "text/plain": [
       "True"
      ]
     },
     "execution_count": 71,
     "metadata": {},
     "output_type": "execute_result"
    }
   ],
   "source": [
    "'Hello' in mystr1 # Check whether\n",
    "#substring \"Hello\" is present in given string\n"
   ]
  },
  {
   "cell_type": "code",
   "execution_count": 72,
   "id": "8c90f7d0",
   "metadata": {
    "id": "8c90f7d0",
    "outputId": "397087df-11a3-44a1-904f-4c025c71ce0b"
   },
   "outputs": [
    {
     "data": {
      "text/plain": [
       "False"
      ]
     },
     "execution_count": 72,
     "metadata": {},
     "output_type": "execute_result"
    }
   ],
   "source": [
    "'hello' in mystr1"
   ]
  },
  {
   "cell_type": "markdown",
   "id": "8ece4e99",
   "metadata": {
    "id": "8ece4e99"
   },
   "source": [
    "### String Partioning"
   ]
  },
  {
   "cell_type": "code",
   "execution_count": 74,
   "id": "0ba08747",
   "metadata": {
    "executionInfo": {
     "elapsed": 454,
     "status": "ok",
     "timestamp": 1652335083127,
     "user": {
      "displayName": "Rohan Ravindra Sohani",
      "userId": "06993368347103045844"
     },
     "user_tz": -330
    },
    "id": "0ba08747",
    "outputId": "290c7825-e707-4c93-e417-d7d4ffc353c7"
   },
   "outputs": [
    {
     "data": {
      "text/plain": [
       "('Natural ', 'language', ' processing with Python and R and Java')"
      ]
     },
     "execution_count": 74,
     "metadata": {},
     "output_type": "execute_result"
    }
   ],
   "source": [
    "\"\"\"\n",
    "The partition() method searches for a specified string and splits the string into\n",
    " - The first element contains the part before the argument string.\n",
    " - The second element contains the argument string.\n",
    " - The third element contains the part after the argument string.\n",
    "\"\"\"\n",
    "str5 = \"Natural language processing with Python and R and Java\"\n",
    "L = str5.partition(\"language\")\n",
    "L"
   ]
  },
  {
   "cell_type": "code",
   "execution_count": null,
   "id": "18caaae1",
   "metadata": {
    "id": "18caaae1"
   },
   "outputs": [],
   "source": [
    "str5"
   ]
  },
  {
   "cell_type": "code",
   "execution_count": null,
   "id": "4ee663bd",
   "metadata": {
    "id": "4ee663bd"
   },
   "outputs": [],
   "source": [
    "L"
   ]
  },
  {
   "cell_type": "markdown",
   "id": "8c3d4fc9",
   "metadata": {
    "id": "8c3d4fc9"
   },
   "source": [
    "### String Functions"
   ]
  },
  {
   "cell_type": "code",
   "execution_count": 75,
   "id": "be81f2fa",
   "metadata": {
    "id": "be81f2fa",
    "outputId": "2164e1ae-255b-4ec4-b248-3e4be2e195c8"
   },
   "outputs": [
    {
     "data": {
      "text/plain": [
       "' Hello Everyone '"
      ]
     },
     "execution_count": 75,
     "metadata": {},
     "output_type": "execute_result"
    }
   ],
   "source": [
    "mystr2 = \" Hello Everyone \"\n",
    "mystr2"
   ]
  },
  {
   "cell_type": "code",
   "execution_count": 76,
   "id": "d409e01e",
   "metadata": {
    "id": "d409e01e",
    "outputId": "fb82509e-9f04-4280-fbb5-e05c17ea8d45"
   },
   "outputs": [
    {
     "data": {
      "text/plain": [
       "3"
      ]
     },
     "execution_count": 76,
     "metadata": {},
     "output_type": "execute_result"
    }
   ],
   "source": [
    "mystr2.count('e')"
   ]
  },
  {
   "cell_type": "code",
   "execution_count": 77,
   "id": "3855fdc1",
   "metadata": {
    "id": "3855fdc1"
   },
   "outputs": [
    {
     "data": {
      "text/plain": [
       "1"
      ]
     },
     "execution_count": 77,
     "metadata": {},
     "output_type": "execute_result"
    }
   ],
   "source": [
    "mystr2.count('E') ## count the number of occurence of given substring in given string"
   ]
  },
  {
   "cell_type": "code",
   "execution_count": 83,
   "id": "6e52d5b9",
   "metadata": {
    "id": "6e52d5b9",
    "outputId": "0e9bece5-1085-45c0-92eb-4a742a3be7bd"
   },
   "outputs": [
    {
     "data": {
      "text/plain": [
       "'         Hello Everyone     '"
      ]
     },
     "execution_count": 83,
     "metadata": {},
     "output_type": "execute_result"
    }
   ],
   "source": [
    "mystr2 = \"         Hello Everyone     \"\n",
    "mystr2"
   ]
  },
  {
   "cell_type": "code",
   "execution_count": 88,
   "id": "e7a3b771",
   "metadata": {
    "id": "e7a3b771",
    "outputId": "0f9ee69d-4083-4260-8986-c50c7b87dd3c"
   },
   "outputs": [],
   "source": [
    "z1 =mystr2.strip()"
   ]
  },
  {
   "cell_type": "code",
   "execution_count": 89,
   "id": "8fc2a3f6-7a21-4489-9576-a4aec44b5fb5",
   "metadata": {},
   "outputs": [
    {
     "data": {
      "text/plain": [
       "'Hello Everyone'"
      ]
     },
     "execution_count": 89,
     "metadata": {},
     "output_type": "execute_result"
    }
   ],
   "source": [
    "z1"
   ]
  },
  {
   "cell_type": "code",
   "execution_count": 87,
   "id": "0c5a67a2",
   "metadata": {
    "id": "0c5a67a2",
    "outputId": "26b6371c-4275-48a0-a8e5-ff2f5e0d7871"
   },
   "outputs": [
    {
     "data": {
      "text/plain": [
       "'         Hello Everyone     '"
      ]
     },
     "execution_count": 87,
     "metadata": {},
     "output_type": "execute_result"
    }
   ],
   "source": [
    "mystr2"
   ]
  },
  {
   "cell_type": "code",
   "execution_count": 81,
   "id": "ed2b80db",
   "metadata": {
    "id": "ed2b80db"
   },
   "outputs": [],
   "source": [
    "str1=mystr2.strip()"
   ]
  },
  {
   "cell_type": "code",
   "execution_count": 82,
   "id": "822cbd37",
   "metadata": {
    "id": "822cbd37",
    "outputId": "71e0085f-a1c8-493d-e8dc-3adfa56191a8"
   },
   "outputs": [
    {
     "data": {
      "text/plain": [
       "'Hello Everyone'"
      ]
     },
     "execution_count": 82,
     "metadata": {},
     "output_type": "execute_result"
    }
   ],
   "source": [
    "str1"
   ]
  },
  {
   "cell_type": "code",
   "execution_count": 90,
   "id": "adfd0c11",
   "metadata": {
    "id": "adfd0c11",
    "scrolled": true
   },
   "outputs": [
    {
     "data": {
      "text/plain": [
       "'         Hello Everyone'"
      ]
     },
     "execution_count": 90,
     "metadata": {},
     "output_type": "execute_result"
    }
   ],
   "source": [
    "mystr2.rstrip() # Removes all whitespaces at the end of the string"
   ]
  },
  {
   "cell_type": "code",
   "execution_count": 91,
   "id": "ddba005e",
   "metadata": {
    "id": "ddba005e",
    "scrolled": true
   },
   "outputs": [
    {
     "data": {
      "text/plain": [
       "'Hello Everyone     '"
      ]
     },
     "execution_count": 91,
     "metadata": {},
     "output_type": "execute_result"
    }
   ],
   "source": [
    "mystr2.lstrip() # Removes all whitespaces at the begining of the string"
   ]
  },
  {
   "cell_type": "code",
   "execution_count": null,
   "id": "c747149b",
   "metadata": {
    "id": "c747149b"
   },
   "outputs": [],
   "source": [
    "mystr2"
   ]
  },
  {
   "cell_type": "code",
   "execution_count": 92,
   "id": "b7afef19",
   "metadata": {
    "id": "b7afef19"
   },
   "outputs": [
    {
     "data": {
      "text/plain": [
       "'*********Hello Everyone***********All the Best**********'"
      ]
     },
     "execution_count": 92,
     "metadata": {},
     "output_type": "execute_result"
    }
   ],
   "source": [
    "mystr2 = \"*********Hello Everyone***********All the Best**********\"\n",
    "mystr2"
   ]
  },
  {
   "cell_type": "code",
   "execution_count": 94,
   "id": "dbb00304",
   "metadata": {
    "id": "dbb00304",
    "scrolled": true
   },
   "outputs": [
    {
     "data": {
      "text/plain": [
       "'Hello Everyone***********All the Best'"
      ]
     },
     "execution_count": 94,
     "metadata": {},
     "output_type": "execute_result"
    }
   ],
   "source": [
    "mystr2.strip('*') # Removes all '*' characters from begining\n",
    "#& end of the string"
   ]
  },
  {
   "cell_type": "code",
   "execution_count": 95,
   "id": "d487e616-30f6-440c-9b2f-8a92c8eee3e5",
   "metadata": {},
   "outputs": [
    {
     "data": {
      "text/plain": [
       "'Hello Everyone***********All the Best**********'"
      ]
     },
     "execution_count": 95,
     "metadata": {},
     "output_type": "execute_result"
    }
   ],
   "source": [
    "mystr2.lstrip('*')"
   ]
  },
  {
   "cell_type": "code",
   "execution_count": 96,
   "id": "6154c4e7-b841-4ccd-84b4-f494a74469ed",
   "metadata": {},
   "outputs": [
    {
     "data": {
      "text/plain": [
       "'*********Hello Everyone***********All the Best'"
      ]
     },
     "execution_count": 96,
     "metadata": {},
     "output_type": "execute_result"
    }
   ],
   "source": [
    "mystr2.rstrip('*')"
   ]
  },
  {
   "cell_type": "code",
   "execution_count": 97,
   "id": "af7c9b10",
   "metadata": {
    "id": "af7c9b10"
   },
   "outputs": [],
   "source": [
    "mystr2='HELLO PYTHON'"
   ]
  },
  {
   "cell_type": "code",
   "execution_count": 98,
   "id": "9a08cfda",
   "metadata": {
    "id": "9a08cfda",
    "outputId": "92519c7c-e345-48fd-96ad-e9da01b30358"
   },
   "outputs": [
    {
     "data": {
      "text/plain": [
       "'hello python'"
      ]
     },
     "execution_count": 98,
     "metadata": {},
     "output_type": "execute_result"
    }
   ],
   "source": [
    "mystr2.lower()"
   ]
  },
  {
   "cell_type": "code",
   "execution_count": 99,
   "id": "c2a468df",
   "metadata": {
    "id": "c2a468df"
   },
   "outputs": [],
   "source": [
    "mystr5='hello python'"
   ]
  },
  {
   "cell_type": "code",
   "execution_count": 100,
   "id": "340e2449",
   "metadata": {
    "id": "340e2449",
    "outputId": "e7fbe459-5327-45e6-bfc4-ca76aaf74aff",
    "scrolled": true
   },
   "outputs": [
    {
     "data": {
      "text/plain": [
       "'HELLO PYTHON'"
      ]
     },
     "execution_count": 100,
     "metadata": {},
     "output_type": "execute_result"
    }
   ],
   "source": [
    "mystr5.upper()"
   ]
  },
  {
   "cell_type": "code",
   "execution_count": 103,
   "id": "fad85656",
   "metadata": {
    "id": "fad85656",
    "outputId": "c6ef001c-b6dc-4c8f-b892-a420b61c5115"
   },
   "outputs": [
    {
     "data": {
      "text/plain": [
       "True"
      ]
     },
     "execution_count": 103,
     "metadata": {},
     "output_type": "execute_result"
    }
   ],
   "source": [
    "mystr5.startswith(\"he\")\n",
    "# Return boolean value True if string starts with \"He\"\n"
   ]
  },
  {
   "cell_type": "code",
   "execution_count": 104,
   "id": "6305a0b1",
   "metadata": {
    "id": "6305a0b1",
    "outputId": "5a428a41-b6bb-42c4-e80f-f038111c2303"
   },
   "outputs": [
    {
     "data": {
      "text/plain": [
       "True"
      ]
     },
     "execution_count": 104,
     "metadata": {},
     "output_type": "execute_result"
    }
   ],
   "source": [
    "mystr5.endswith(\"on\")\n",
    "# Return boolean value True if string ends with \"on\""
   ]
  },
  {
   "cell_type": "code",
   "execution_count": 107,
   "id": "f7d7c529",
   "metadata": {
    "id": "f7d7c529"
   },
   "outputs": [],
   "source": [
    "mystr4 = \"one two three four one two two \\\n",
    "three five five six seven six seven one oneone ten eight \\\n",
    "ten nine eleven ten ten nine\""
   ]
  },
  {
   "cell_type": "code",
   "execution_count": 109,
   "id": "44834058",
   "metadata": {
    "id": "44834058",
    "outputId": "fd12d735-5575-4a8d-86d3-fefb6f8a439c"
   },
   "outputs": [
    {
     "data": {
      "text/plain": [
       "'one two three four one two two three five five six seven six seven one oneone ten eight ten nine eleven ten ten nine'"
      ]
     },
     "execution_count": 109,
     "metadata": {},
     "output_type": "execute_result"
    }
   ],
   "source": [
    "mystr4"
   ]
  },
  {
   "cell_type": "code",
   "execution_count": 110,
   "id": "fcb30b96",
   "metadata": {
    "id": "fcb30b96",
    "outputId": "b65c3ad8-a0de-4e6e-d602-401bc2a4acb5"
   },
   "outputs": [
    {
     "data": {
      "text/plain": [
       "['one',\n",
       " 'two',\n",
       " 'three',\n",
       " 'four',\n",
       " 'one',\n",
       " 'two',\n",
       " 'two',\n",
       " 'three',\n",
       " 'five',\n",
       " 'five',\n",
       " 'six',\n",
       " 'seven',\n",
       " 'six',\n",
       " 'seven',\n",
       " 'one',\n",
       " 'oneone',\n",
       " 'ten',\n",
       " 'eight',\n",
       " 'ten',\n",
       " 'nine',\n",
       " 'eleven',\n",
       " 'ten',\n",
       " 'ten',\n",
       " 'nine']"
      ]
     },
     "execution_count": 110,
     "metadata": {},
     "output_type": "execute_result"
    }
   ],
   "source": [
    "mystr4.split()"
   ]
  },
  {
   "cell_type": "code",
   "execution_count": 111,
   "id": "a8c2ae2d",
   "metadata": {
    "id": "a8c2ae2d"
   },
   "outputs": [
    {
     "name": "stdout",
     "output_type": "stream",
     "text": [
      "['on', ' two thr', '', ' four on', ' two two thr', '', ' fiv', ' fiv', ' six s', 'v', 'n six s', 'v', 'n on', ' on', 'on', ' t', 'n ', 'ight t', 'n nin', ' ', 'l', 'v', 'n t', 'n t', 'n nin', '']\n"
     ]
    }
   ],
   "source": [
    "print(mystr4.split('e'))"
   ]
  },
  {
   "cell_type": "code",
   "execution_count": 112,
   "id": "c448875c-b9ef-4f6d-a8ba-f97f1d02ee81",
   "metadata": {
    "id": "ff8f5f98",
    "outputId": "bf72a4a5-8f64-4c51-fe49-643f4555fe5d"
   },
   "outputs": [],
   "source": [
    "# Combining string & numbers using format method\n",
    "item1 = 40\n",
    "item2 = 55\n",
    "item3 = 77"
   ]
  },
  {
   "cell_type": "code",
   "execution_count": 116,
   "id": "379b7c51-90a0-4e34-a394-045eaff0a610",
   "metadata": {},
   "outputs": [
    {
     "name": "stdout",
     "output_type": "stream",
     "text": [
      "40 these 55, are the cost of items 77\n"
     ]
    }
   ],
   "source": [
    "print(f\"{item1} these {item2}, are the cost of items {item3}\")"
   ]
  },
  {
   "cell_type": "code",
   "execution_count": null,
   "id": "976342d0-93e9-498f-80be-95b182e59092",
   "metadata": {},
   "outputs": [],
   "source": []
  },
  {
   "cell_type": "code",
   "execution_count": 119,
   "id": "b6cb31b9-6bff-4d26-b4d3-b63afa81574f",
   "metadata": {
    "id": "ff8f5f98",
    "outputId": "bf72a4a5-8f64-4c51-fe49-643f4555fe5d"
   },
   "outputs": [
    {
     "data": {
      "text/plain": [
       "'Cost of item1 , item2 and item3 are 77 , 55 and 40'"
      ]
     },
     "execution_count": 119,
     "metadata": {},
     "output_type": "execute_result"
    }
   ],
   "source": [
    "\"Cost of item1 , item2 and item3 are {} , {} and {}\".format(item3,item2,item1)"
   ]
  },
  {
   "cell_type": "code",
   "execution_count": 121,
   "id": "0362f463",
   "metadata": {
    "id": "0362f463"
   },
   "outputs": [
    {
     "name": "stdout",
     "output_type": "stream",
     "text": [
      "The value of a is 3       and the value of b is 9 value of c is 5  \n"
     ]
    }
   ],
   "source": [
    "a=5\n",
    "b=3\n",
    "c=9\n",
    "print('The value of a is {} \\\n",
    "      and the value of b is {} value of c is {}  '.format(b,c,a))"
   ]
  },
  {
   "cell_type": "markdown",
   "id": "ed364f92",
   "metadata": {
    "id": "ed364f92"
   },
   "source": [
    "# Typecasting"
   ]
  },
  {
   "cell_type": "markdown",
   "id": "1eee6a0d",
   "metadata": {
    "id": "1eee6a0d"
   },
   "source": [
    "* Type Casting is the method to convert the variable data type into a certain data\n",
    "type in order to the operation required to be performed by users.\n",
    "\n",
    "* There are 2 ways in which typecasting is performed.\n",
    "\n",
    "1) Autotypecasting\n",
    "\n",
    "\n",
    "2) Forced Typecasting"
   ]
  },
  {
   "cell_type": "markdown",
   "id": "202310c5",
   "metadata": {
    "id": "202310c5"
   },
   "source": [
    "## Auto Typecasting\n",
    "* The Python interpreter automatically converts one data type to another without any user involvement."
   ]
  },
  {
   "cell_type": "code",
   "execution_count": 123,
   "id": "85f98668",
   "metadata": {
    "id": "85f98668",
    "outputId": "5cef69de-3df3-49d8-8bdb-7a4d514c7ad9",
    "scrolled": true
   },
   "outputs": [
    {
     "data": {
      "text/plain": [
       "10.67"
      ]
     },
     "execution_count": 123,
     "metadata": {},
     "output_type": "execute_result"
    }
   ],
   "source": [
    "4 + 5.67 + True\n",
    "##( background processing of the code) due to the\n",
    "##higher hierarchy of float datatype"
   ]
  },
  {
   "cell_type": "code",
   "execution_count": 124,
   "id": "5ae66f4a",
   "metadata": {
    "id": "5ae66f4a",
    "outputId": "edc3836e-2555-4652-f091-77cfdeaa41ee"
   },
   "outputs": [
    {
     "data": {
      "text/plain": [
       "10.6"
      ]
     },
     "execution_count": 124,
     "metadata": {},
     "output_type": "execute_result"
    }
   ],
   "source": [
    "4 + 5.6 + False + True"
   ]
  },
  {
   "cell_type": "code",
   "execution_count": 125,
   "id": "d2d1107a",
   "metadata": {
    "colab": {
     "base_uri": "https://localhost:8080/",
     "height": 166
    },
    "executionInfo": {
     "elapsed": 8,
     "status": "error",
     "timestamp": 1652354423989,
     "user": {
      "displayName": "Rohan Ravindra Sohani",
      "userId": "06993368347103045844"
     },
     "user_tz": -330
    },
    "id": "d2d1107a",
    "outputId": "d1145384-0b36-470d-c901-9c394cf2fb51"
   },
   "outputs": [
    {
     "ename": "TypeError",
     "evalue": "unsupported operand type(s) for +: 'int' and 'str'",
     "output_type": "error",
     "traceback": [
      "\u001b[1;31m---------------------------------------------------------------------------\u001b[0m",
      "\u001b[1;31mTypeError\u001b[0m                                 Traceback (most recent call last)",
      "Cell \u001b[1;32mIn[125], line 1\u001b[0m\n\u001b[1;32m----> 1\u001b[0m \u001b[38;5;241m4\u001b[39m\u001b[38;5;241m+\u001b[39m\u001b[38;5;241m3\u001b[39m\u001b[38;5;241m+\u001b[39m\u001b[38;5;124m'\u001b[39m\u001b[38;5;124mdata\u001b[39m\u001b[38;5;124m'\u001b[39m\u001b[38;5;241m+\u001b[39m\u001b[38;5;241m6.7\u001b[39m\n",
      "\u001b[1;31mTypeError\u001b[0m: unsupported operand type(s) for +: 'int' and 'str'"
     ]
    }
   ],
   "source": [
    "4+3+'data'+6.7"
   ]
  },
  {
   "cell_type": "code",
   "execution_count": 126,
   "id": "d272b730",
   "metadata": {
    "id": "d272b730",
    "scrolled": true
   },
   "outputs": [
    {
     "data": {
      "text/plain": [
       "4.6"
      ]
     },
     "execution_count": 126,
     "metadata": {},
     "output_type": "execute_result"
    }
   ],
   "source": [
    "True + 3.6"
   ]
  },
  {
   "cell_type": "markdown",
   "id": "86d08aae",
   "metadata": {
    "id": "86d08aae"
   },
   "source": [
    "## Forced Typecasting"
   ]
  },
  {
   "cell_type": "code",
   "execution_count": 127,
   "id": "d42d6532",
   "metadata": {
    "id": "d42d6532"
   },
   "outputs": [],
   "source": [
    "a=9.7"
   ]
  },
  {
   "cell_type": "code",
   "execution_count": 128,
   "id": "5c4bd907",
   "metadata": {
    "id": "5c4bd907",
    "outputId": "a15e6835-34ce-4423-cb9d-e22c2ad96fa5"
   },
   "outputs": [
    {
     "data": {
      "text/plain": [
       "float"
      ]
     },
     "execution_count": 128,
     "metadata": {},
     "output_type": "execute_result"
    }
   ],
   "source": [
    "type(a)"
   ]
  },
  {
   "cell_type": "code",
   "execution_count": 129,
   "id": "52c773ff",
   "metadata": {
    "id": "52c773ff",
    "outputId": "9a733539-974e-4cc7-8178-a74375a463e9"
   },
   "outputs": [
    {
     "data": {
      "text/plain": [
       "9"
      ]
     },
     "execution_count": 129,
     "metadata": {},
     "output_type": "execute_result"
    }
   ],
   "source": [
    "int(a)"
   ]
  },
  {
   "cell_type": "code",
   "execution_count": 133,
   "id": "a80b04ce-ad3b-4c57-981a-96cac2bfd661",
   "metadata": {},
   "outputs": [
    {
     "data": {
      "text/plain": [
       "False"
      ]
     },
     "execution_count": 133,
     "metadata": {},
     "output_type": "execute_result"
    }
   ],
   "source": [
    "bool(0)"
   ]
  },
  {
   "cell_type": "code",
   "execution_count": 130,
   "id": "26d9fc15",
   "metadata": {
    "id": "26d9fc15",
    "outputId": "f2f36a47-e279-4405-8c39-11d17088917a"
   },
   "outputs": [
    {
     "data": {
      "text/plain": [
       "True"
      ]
     },
     "execution_count": 130,
     "metadata": {},
     "output_type": "execute_result"
    }
   ],
   "source": [
    "bool(a)"
   ]
  },
  {
   "cell_type": "code",
   "execution_count": 134,
   "id": "b91c3821",
   "metadata": {
    "id": "b91c3821",
    "outputId": "2f592889-cf35-43bd-c3f7-c0348af390f7"
   },
   "outputs": [
    {
     "data": {
      "text/plain": [
       "'9.7'"
      ]
     },
     "execution_count": 134,
     "metadata": {},
     "output_type": "execute_result"
    }
   ],
   "source": [
    "str(a)"
   ]
  },
  {
   "cell_type": "code",
   "execution_count": 135,
   "id": "dc49132c",
   "metadata": {
    "id": "dc49132c"
   },
   "outputs": [],
   "source": [
    "a=5"
   ]
  },
  {
   "cell_type": "code",
   "execution_count": 136,
   "id": "afe1b8fe",
   "metadata": {
    "id": "afe1b8fe",
    "outputId": "ab1e2fae-0126-4a5f-db7c-4bcceff6f682"
   },
   "outputs": [
    {
     "data": {
      "text/plain": [
       "5.0"
      ]
     },
     "execution_count": 136,
     "metadata": {},
     "output_type": "execute_result"
    }
   ],
   "source": [
    "float(a)"
   ]
  },
  {
   "cell_type": "code",
   "execution_count": 137,
   "id": "5263d0e3",
   "metadata": {
    "id": "5263d0e3",
    "outputId": "f012207f-28c1-4c18-bcba-84b521c2ae32"
   },
   "outputs": [
    {
     "data": {
      "text/plain": [
       "True"
      ]
     },
     "execution_count": 137,
     "metadata": {},
     "output_type": "execute_result"
    }
   ],
   "source": [
    "bool(a)"
   ]
  },
  {
   "cell_type": "code",
   "execution_count": 138,
   "id": "0ba33ee8",
   "metadata": {
    "id": "0ba33ee8",
    "outputId": "1c24056a-fe6a-49d2-d11f-d91285b29803",
    "scrolled": true
   },
   "outputs": [
    {
     "data": {
      "text/plain": [
       "'5'"
      ]
     },
     "execution_count": 138,
     "metadata": {},
     "output_type": "execute_result"
    }
   ],
   "source": [
    "str(a)"
   ]
  },
  {
   "cell_type": "code",
   "execution_count": 140,
   "id": "423ea644",
   "metadata": {
    "id": "423ea644"
   },
   "outputs": [],
   "source": [
    "a=False  #0"
   ]
  },
  {
   "cell_type": "code",
   "execution_count": 141,
   "id": "d2f19935",
   "metadata": {
    "id": "d2f19935",
    "outputId": "6a515d9f-38bd-47b2-ce48-21c0195fff39"
   },
   "outputs": [
    {
     "data": {
      "text/plain": [
       "0.0"
      ]
     },
     "execution_count": 141,
     "metadata": {},
     "output_type": "execute_result"
    }
   ],
   "source": [
    "float(a)"
   ]
  },
  {
   "cell_type": "code",
   "execution_count": 142,
   "id": "26b1d16e",
   "metadata": {
    "id": "26b1d16e",
    "outputId": "2e1abf4e-d337-4a55-f252-922115d32aae"
   },
   "outputs": [
    {
     "data": {
      "text/plain": [
       "0"
      ]
     },
     "execution_count": 142,
     "metadata": {},
     "output_type": "execute_result"
    }
   ],
   "source": [
    "int(a)"
   ]
  },
  {
   "cell_type": "code",
   "execution_count": 143,
   "id": "1a52f466",
   "metadata": {
    "id": "1a52f466",
    "outputId": "ae0a1f3d-6485-4b83-921a-9c9e153cbc87"
   },
   "outputs": [
    {
     "data": {
      "text/plain": [
       "'False'"
      ]
     },
     "execution_count": 143,
     "metadata": {},
     "output_type": "execute_result"
    }
   ],
   "source": [
    "str(a)"
   ]
  },
  {
   "cell_type": "code",
   "execution_count": 144,
   "id": "2613aa7d",
   "metadata": {
    "id": "2613aa7d"
   },
   "outputs": [],
   "source": [
    "a='qewrw'"
   ]
  },
  {
   "cell_type": "code",
   "execution_count": 145,
   "id": "c3cbcdb2",
   "metadata": {
    "id": "c3cbcdb2",
    "outputId": "46363522-79a0-435e-b5a7-1967416951d3"
   },
   "outputs": [
    {
     "ename": "ValueError",
     "evalue": "could not convert string to float: 'qewrw'",
     "output_type": "error",
     "traceback": [
      "\u001b[1;31m---------------------------------------------------------------------------\u001b[0m",
      "\u001b[1;31mValueError\u001b[0m                                Traceback (most recent call last)",
      "Cell \u001b[1;32mIn[145], line 1\u001b[0m\n\u001b[1;32m----> 1\u001b[0m \u001b[38;5;28mfloat\u001b[39m(a)\n",
      "\u001b[1;31mValueError\u001b[0m: could not convert string to float: 'qewrw'"
     ]
    }
   ],
   "source": [
    "float(a)"
   ]
  },
  {
   "cell_type": "code",
   "execution_count": 146,
   "id": "40f399e5",
   "metadata": {
    "id": "40f399e5",
    "outputId": "af69c6fb-8e20-4eb8-8e42-fc61e4fe9824"
   },
   "outputs": [
    {
     "ename": "ValueError",
     "evalue": "invalid literal for int() with base 10: 'qewrw'",
     "output_type": "error",
     "traceback": [
      "\u001b[1;31m---------------------------------------------------------------------------\u001b[0m",
      "\u001b[1;31mValueError\u001b[0m                                Traceback (most recent call last)",
      "Cell \u001b[1;32mIn[146], line 1\u001b[0m\n\u001b[1;32m----> 1\u001b[0m \u001b[38;5;28mint\u001b[39m(a)\n",
      "\u001b[1;31mValueError\u001b[0m: invalid literal for int() with base 10: 'qewrw'"
     ]
    }
   ],
   "source": [
    "int(a)"
   ]
  },
  {
   "cell_type": "code",
   "execution_count": 147,
   "id": "31946450",
   "metadata": {
    "id": "31946450"
   },
   "outputs": [],
   "source": [
    "a=''"
   ]
  },
  {
   "cell_type": "code",
   "execution_count": 148,
   "id": "1fee0875",
   "metadata": {
    "id": "1fee0875",
    "outputId": "aa979e07-2441-4751-d374-3bf3015f6c34"
   },
   "outputs": [
    {
     "data": {
      "text/plain": [
       "False"
      ]
     },
     "execution_count": 148,
     "metadata": {},
     "output_type": "execute_result"
    }
   ],
   "source": [
    "bool(a)"
   ]
  },
  {
   "cell_type": "code",
   "execution_count": 149,
   "id": "f4e7c68a",
   "metadata": {
    "colab": {
     "base_uri": "https://localhost:8080/",
     "height": 166
    },
    "executionInfo": {
     "elapsed": 559,
     "status": "error",
     "timestamp": 1652334099577,
     "user": {
      "displayName": "Rohan Ravindra Sohani",
      "userId": "06993368347103045844"
     },
     "user_tz": -330
    },
    "id": "f4e7c68a",
    "outputId": "dead3237-e682-41f3-9d05-4e001cac5310"
   },
   "outputs": [
    {
     "ename": "ValueError",
     "evalue": "invalid literal for int() with base 10: 'data'",
     "output_type": "error",
     "traceback": [
      "\u001b[1;31m---------------------------------------------------------------------------\u001b[0m",
      "\u001b[1;31mValueError\u001b[0m                                Traceback (most recent call last)",
      "Cell \u001b[1;32mIn[149], line 1\u001b[0m\n\u001b[1;32m----> 1\u001b[0m \u001b[38;5;28mint\u001b[39m(\u001b[38;5;124m'\u001b[39m\u001b[38;5;124mdata\u001b[39m\u001b[38;5;124m'\u001b[39m)\n",
      "\u001b[1;31mValueError\u001b[0m: invalid literal for int() with base 10: 'data'"
     ]
    }
   ],
   "source": [
    "int('data')"
   ]
  },
  {
   "cell_type": "code",
   "execution_count": 150,
   "id": "bd684c6f",
   "metadata": {
    "id": "bd684c6f",
    "outputId": "efaac74d-183c-41cf-e3e8-e5222355dba2"
   },
   "outputs": [
    {
     "data": {
      "text/plain": [
       "2"
      ]
     },
     "execution_count": 150,
     "metadata": {},
     "output_type": "execute_result"
    }
   ],
   "source": [
    "int('2')"
   ]
  },
  {
   "cell_type": "code",
   "execution_count": 151,
   "id": "9e8361d5",
   "metadata": {
    "id": "9e8361d5",
    "outputId": "40118f82-f1e0-4a2c-8af9-6cc3774c27b3"
   },
   "outputs": [
    {
     "data": {
      "text/plain": [
       "1"
      ]
     },
     "execution_count": 151,
     "metadata": {},
     "output_type": "execute_result"
    }
   ],
   "source": [
    "int(True)"
   ]
  },
  {
   "cell_type": "code",
   "execution_count": 152,
   "id": "75f03975",
   "metadata": {
    "id": "75f03975",
    "outputId": "a32b769b-b65e-4a17-ed47-a215ed679e55",
    "scrolled": true
   },
   "outputs": [
    {
     "data": {
      "text/plain": [
       "0"
      ]
     },
     "execution_count": 152,
     "metadata": {},
     "output_type": "execute_result"
    }
   ],
   "source": [
    "int(False)"
   ]
  },
  {
   "cell_type": "code",
   "execution_count": 153,
   "id": "3905f14c",
   "metadata": {
    "id": "3905f14c",
    "outputId": "39d89d3c-1ae0-4f5e-b8e9-b53579307b16"
   },
   "outputs": [
    {
     "data": {
      "text/plain": [
       "1.0"
      ]
     },
     "execution_count": 153,
     "metadata": {},
     "output_type": "execute_result"
    }
   ],
   "source": [
    "float(True)"
   ]
  },
  {
   "cell_type": "code",
   "execution_count": 154,
   "id": "dc81f7e9",
   "metadata": {
    "id": "dc81f7e9",
    "outputId": "b8eb9159-de8a-4bb8-8434-445b82131fb2",
    "scrolled": true
   },
   "outputs": [
    {
     "data": {
      "text/plain": [
       "0.0"
      ]
     },
     "execution_count": 154,
     "metadata": {},
     "output_type": "execute_result"
    }
   ],
   "source": [
    "float(False)"
   ]
  },
  {
   "cell_type": "code",
   "execution_count": 155,
   "id": "2c1e5c2c",
   "metadata": {
    "id": "2c1e5c2c",
    "outputId": "828371ac-2509-4c14-f604-780223509aeb"
   },
   "outputs": [
    {
     "ename": "ValueError",
     "evalue": "could not convert string to float: 'abc'",
     "output_type": "error",
     "traceback": [
      "\u001b[1;31m---------------------------------------------------------------------------\u001b[0m",
      "\u001b[1;31mValueError\u001b[0m                                Traceback (most recent call last)",
      "Cell \u001b[1;32mIn[155], line 1\u001b[0m\n\u001b[1;32m----> 1\u001b[0m \u001b[38;5;28mfloat\u001b[39m(\u001b[38;5;124m'\u001b[39m\u001b[38;5;124mabc\u001b[39m\u001b[38;5;124m'\u001b[39m)\n",
      "\u001b[1;31mValueError\u001b[0m: could not convert string to float: 'abc'"
     ]
    }
   ],
   "source": [
    "float('abc')  # Convert the datatype to float"
   ]
  },
  {
   "cell_type": "code",
   "execution_count": 156,
   "id": "395b4aa7",
   "metadata": {
    "id": "395b4aa7",
    "outputId": "89ec310d-ed5d-44fb-b8c2-b28688feeaeb",
    "scrolled": true
   },
   "outputs": [
    {
     "data": {
      "text/plain": [
       "True"
      ]
     },
     "execution_count": 156,
     "metadata": {},
     "output_type": "execute_result"
    }
   ],
   "source": [
    "bool(8.9)#converting float type into bool"
   ]
  },
  {
   "cell_type": "code",
   "execution_count": 157,
   "id": "a48861ee",
   "metadata": {
    "id": "a48861ee",
    "outputId": "bba63f1e-a5a9-455c-f61f-809438ef44ef",
    "scrolled": true
   },
   "outputs": [
    {
     "data": {
      "text/plain": [
       "False"
      ]
     },
     "execution_count": 157,
     "metadata": {},
     "output_type": "execute_result"
    }
   ],
   "source": [
    "bool(0)"
   ]
  },
  {
   "cell_type": "code",
   "execution_count": 158,
   "id": "00a8c882",
   "metadata": {
    "id": "00a8c882",
    "outputId": "2c76b4c7-3f46-4a60-a80a-6d695900129d",
    "scrolled": true
   },
   "outputs": [
    {
     "data": {
      "text/plain": [
       "True"
      ]
     },
     "execution_count": 158,
     "metadata": {},
     "output_type": "execute_result"
    }
   ],
   "source": [
    "bool(-1)"
   ]
  },
  {
   "cell_type": "code",
   "execution_count": null,
   "id": "85eff29b",
   "metadata": {
    "id": "85eff29b",
    "outputId": "18bc98de-936d-4452-f99c-6fd3da734426"
   },
   "outputs": [
    {
     "data": {
      "text/plain": [
       "5"
      ]
     },
     "execution_count": 85,
     "metadata": {},
     "output_type": "execute_result"
    }
   ],
   "source": [
    "# Guess the output\n",
    "int(1.5)+4+bool(0)\n",
    "# 1.5 >> 1 +4 + 0"
   ]
  },
  {
   "cell_type": "code",
   "execution_count": 159,
   "id": "d63dad07",
   "metadata": {
    "id": "d63dad07",
    "outputId": "047f3686-c0ea-424c-fdaa-a1d42268c8d2"
   },
   "outputs": [
    {
     "data": {
      "text/plain": [
       "12.0"
      ]
     },
     "execution_count": 159,
     "metadata": {},
     "output_type": "execute_result"
    }
   ],
   "source": [
    "int(5.6)+float(6)+bool(23)\n",
    "#5 + 6.0 + 1"
   ]
  },
  {
   "cell_type": "code",
   "execution_count": 160,
   "id": "06aee519",
   "metadata": {
    "id": "06aee519",
    "outputId": "d25165bc-5017-47eb-ab1d-6bda1c5f499a"
   },
   "outputs": [
    {
     "data": {
      "text/plain": [
       "12.2"
      ]
     },
     "execution_count": 160,
     "metadata": {},
     "output_type": "execute_result"
    }
   ],
   "source": [
    "int(6.5)+1.2+int(5.5)+ bool(0)\n",
    "\n",
    "# 6 + 1.2 + 5 + 0"
   ]
  },
  {
   "cell_type": "code",
   "execution_count": 161,
   "id": "a8c93b79",
   "metadata": {
    "id": "a8c93b79",
    "outputId": "ed9754f0-c312-47ce-e208-a84cf22edb93"
   },
   "outputs": [
    {
     "data": {
      "text/plain": [
       "'5'"
      ]
     },
     "execution_count": 161,
     "metadata": {},
     "output_type": "execute_result"
    }
   ],
   "source": [
    "str(5)"
   ]
  },
  {
   "cell_type": "code",
   "execution_count": 162,
   "id": "62476512",
   "metadata": {
    "id": "62476512",
    "outputId": "de56134b-80b1-4bab-8258-5e6eef510567"
   },
   "outputs": [
    {
     "data": {
      "text/plain": [
       "'9.0'"
      ]
     },
     "execution_count": 162,
     "metadata": {},
     "output_type": "execute_result"
    }
   ],
   "source": [
    "str(9.0)"
   ]
  },
  {
   "cell_type": "code",
   "execution_count": 163,
   "id": "434e87de",
   "metadata": {
    "id": "434e87de",
    "outputId": "b2290f43-fce0-4b5b-ab47-2e3c33410ab3"
   },
   "outputs": [
    {
     "data": {
      "text/plain": [
       "'True'"
      ]
     },
     "execution_count": 163,
     "metadata": {},
     "output_type": "execute_result"
    }
   ],
   "source": [
    "str(True)"
   ]
  },
  {
   "cell_type": "code",
   "execution_count": 164,
   "id": "25110c49",
   "metadata": {
    "id": "25110c49",
    "outputId": "d57baa02-cf47-4612-d5df-55abccde5cf8"
   },
   "outputs": [
    {
     "data": {
      "text/plain": [
       "'False'"
      ]
     },
     "execution_count": 164,
     "metadata": {},
     "output_type": "execute_result"
    }
   ],
   "source": [
    "str(False)"
   ]
  },
  {
   "cell_type": "code",
   "execution_count": 1,
   "id": "f6431e8c-6dd2-45ac-a3d1-70941483746d",
   "metadata": {},
   "outputs": [
    {
     "name": "stdout",
     "output_type": "stream",
     "text": [
      "helo\n"
     ]
    }
   ],
   "source": [
    "import re\n",
    "\n",
    "s =  \"hello\"\n",
    "\n",
    "middle_index =len(s)//2\n",
    "\n",
    "pattern =  f\"(?<=^.{{{middle_index}}}).\"\n",
    "result= re.sub(pattern,\"\",s)\n",
    "\n",
    "print(result)\n"
   ]
  },
  {
   "cell_type": "code",
   "execution_count": null,
   "id": "483e4077-c0ca-457f-b117-2b6db2fbb0c6",
   "metadata": {},
   "outputs": [],
   "source": []
  }
 ],
 "metadata": {
  "colab": {
   "provenance": []
  },
  "kernelspec": {
   "display_name": "Python 3 (ipykernel)",
   "language": "python",
   "name": "python3"
  },
  "language_info": {
   "codemirror_mode": {
    "name": "ipython",
    "version": 3
   },
   "file_extension": ".py",
   "mimetype": "text/x-python",
   "name": "python",
   "nbconvert_exporter": "python",
   "pygments_lexer": "ipython3",
   "version": "3.10.9"
  }
 },
 "nbformat": 4,
 "nbformat_minor": 5
}
